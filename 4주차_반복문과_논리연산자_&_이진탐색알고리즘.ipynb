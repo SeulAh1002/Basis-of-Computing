{
  "nbformat": 4,
  "nbformat_minor": 0,
  "metadata": {
    "colab": {
      "name": "4주차_반복문과 논리연산자 & 이진탐색알고리즘.ipynb",
      "provenance": [],
      "collapsed_sections": [],
      "authorship_tag": "ABX9TyPUE0MLSfk3XgOiITKCwSAy",
      "include_colab_link": true
    },
    "kernelspec": {
      "name": "python3",
      "display_name": "Python 3"
    }
  },
  "cells": [
    {
      "cell_type": "markdown",
      "metadata": {
        "id": "view-in-github",
        "colab_type": "text"
      },
      "source": [
        "<a href=\"https://colab.research.google.com/github/SeulAh1002/Basis-of-Computing/blob/main/4%EC%A3%BC%EC%B0%A8_%EB%B0%98%EB%B3%B5%EB%AC%B8%EA%B3%BC_%EB%85%BC%EB%A6%AC%EC%97%B0%EC%82%B0%EC%9E%90_%26_%EC%9D%B4%EC%A7%84%ED%83%90%EC%83%89%EC%95%8C%EA%B3%A0%EB%A6%AC%EC%A6%98.ipynb\" target=\"_parent\"><img src=\"https://colab.research.google.com/assets/colab-badge.svg\" alt=\"Open In Colab\"/></a>"
      ]
    },
    {
      "cell_type": "markdown",
      "metadata": {
        "id": "pMp-WAUhwZ53"
      },
      "source": [
        "#4주차"
      ]
    },
    {
      "cell_type": "markdown",
      "metadata": {
        "id": "Wyj3ofGiwfJt"
      },
      "source": [
        "##동영상강의"
      ]
    },
    {
      "cell_type": "code",
      "metadata": {
        "id": "a-mqZhMVwdU5",
        "colab": {
          "base_uri": "https://localhost:8080/",
          "height": 362
        },
        "outputId": "681371b7-2e8d-4782-d55d-c8e1fe4a8cb2"
      },
      "source": [
        "# This is a guess the bumber game.(3)\n",
        "import random\n",
        "print('Hello! What is your name?')\n",
        "myName=input()\n",
        "\n",
        "number= random.randint(1,20)\n",
        "print('Well,'+myName+', I am thinking of a number between 1 and 20.')\n",
        "guess=0\n",
        "while guess != number:\n",
        "  print('Take a guess.')\n",
        "  guess=input()\n",
        "  guess=int(guess)\n",
        "\n",
        "  if guess < number:\n",
        "    print ('Your guess is too low.')\n",
        "  if guess > number:\n",
        "    print ('Your guess is too high.')\n",
        "  if guess == number:\n",
        "    print('Good job,' +myName + '! You guessed my number!')\n",
        "print('The end')"
      ],
      "execution_count": null,
      "outputs": [
        {
          "output_type": "stream",
          "text": [
            "Hello! What is your name?\n",
            "Alice\n",
            "Well,Alice, I am thinking of a number between 1 and 20.\n",
            "Take a guess.\n",
            "5\n",
            "Your guess is too low.\n",
            "Take a guess.\n",
            "10\n",
            "Your guess is too low.\n",
            "Take a guess.\n",
            "18\n",
            "Your guess is too high.\n",
            "Take a guess.\n",
            "16\n",
            "Your guess is too high.\n",
            "Take a guess.\n",
            "15\n",
            "Good job,Alice! You guessed my number!\n",
            "The end\n"
          ],
          "name": "stdout"
        }
      ]
    },
    {
      "cell_type": "code",
      "metadata": {
        "id": "e5IiJ24_0uVt",
        "colab": {
          "base_uri": "https://localhost:8080/",
          "height": 253
        },
        "outputId": "326fe5ac-0c46-4d46-f79e-19e9fe563258"
      },
      "source": [
        "# This is a guess the bumber game.(4)\n",
        "import random\n",
        "print('Hello! What is your name?')\n",
        "myName=input()\n",
        "\n",
        "number= random.randint(1,20)\n",
        "print('Well,'+myName+', I am thinking of a number between 1 and 20.')\n",
        "\n",
        "guess=0\n",
        "guessesTaken=0\n",
        "\n",
        "while guess != number:\n",
        "  guessesTaken=guessesTaken+1\n",
        "  print('Take a guess.')\n",
        "  guess=input()\n",
        "  guess=int(guess)\n",
        "\n",
        "  if guess < number:\n",
        "    print ('Your guess in trial',guessesTaken, 'is too low.')\n",
        "  if guess > number:\n",
        "    print ('Your guess in trial', guessesTaken, 'is too high.')\n",
        "  if guess == number:\n",
        "    print('Good job,' +myName + '! You guessed my number in', guessesTaken, 'guesses!')\n",
        "print('The end')"
      ],
      "execution_count": null,
      "outputs": [
        {
          "output_type": "stream",
          "text": [
            "Hello! What is your name?\n",
            "Alice\n",
            "Well,Alice, I am thinking of a number between 1 and 20.\n",
            "Take a guess.\n",
            "8\n",
            "Your guess in trial 1 is too high.\n",
            "Take a guess.\n",
            "4\n",
            "Your guess in trial 2 is too low.\n",
            "Take a guess.\n",
            "6\n",
            "Good job,Alice! You guessed my number in 3 guesses!\n",
            "The end\n"
          ],
          "name": "stdout"
        }
      ]
    },
    {
      "cell_type": "code",
      "metadata": {
        "id": "BJubSwmj1dyc",
        "colab": {
          "base_uri": "https://localhost:8080/",
          "height": 434
        },
        "outputId": "c472e252-414c-4e79-d0e5-3bea9a1cffcd"
      },
      "source": [
        "# This is a guess the bumber game.(5)\n",
        "import random\n",
        "print('Hello! What is your name?')\n",
        "myName=input()\n",
        "\n",
        "number= random.randint(1,20)\n",
        "print('Well,'+myName+', I am thinking of a number between 1 and 20.')\n",
        "\n",
        "guess=0\n",
        "guessesTaken=0\n",
        "\n",
        "while guess != number and guessesTaken<6:\n",
        "  guessesTaken=guessesTaken+1\n",
        "  print('Take a guess.')\n",
        "  guess=input()\n",
        "  guess=int(guess)\n",
        "\n",
        "  if guess < number:\n",
        "    print ('Your guess in trial',guessesTaken, 'is too low.')\n",
        "  if guess > number:\n",
        "    print ('Your guess in trial', guessesTaken, 'is too high.')\n",
        "  if guess == number:\n",
        "    print('Good job,' +myName + '! You guessed my number in', guessesTaken, 'guesses!')\n",
        "\n",
        "if guess!=number:\n",
        "  print('Nope. The number I was thinking of was', number,'.')\n",
        "print('The end')"
      ],
      "execution_count": null,
      "outputs": [
        {
          "output_type": "stream",
          "text": [
            "Hello! What is your name?\n",
            "Alice\n",
            "Well,Alice, I am thinking of a number between 1 and 20.\n",
            "Take a guess.\n",
            "3\n",
            "Your guess in trial 1 is too low.\n",
            "Take a guess.\n",
            "5\n",
            "Your guess in trial 2 is too low.\n",
            "Take a guess.\n",
            "6\n",
            "Your guess in trial 3 is too low.\n",
            "Take a guess.\n",
            "7\n",
            "Your guess in trial 4 is too low.\n",
            "Take a guess.\n",
            "8\n",
            "Your guess in trial 5 is too low.\n",
            "Take a guess.\n",
            "9\n",
            "Your guess in trial 6 is too low.\n",
            "Nope. The number I was thinking of was 12 .\n",
            "The end\n"
          ],
          "name": "stdout"
        }
      ]
    },
    {
      "cell_type": "markdown",
      "metadata": {
        "id": "7pElRlVyStOz"
      },
      "source": [
        "##실습강의"
      ]
    },
    {
      "cell_type": "code",
      "metadata": {
        "id": "7h33pULlSwE5",
        "colab": {
          "base_uri": "https://localhost:8080/",
          "height": 271
        },
        "outputId": "4b21252e-ae72-417f-da97-6cb10cd16224"
      },
      "source": [
        "#실습1\n",
        "print('열 번 찍어 안 넘어가는 나무 없다!!!')\n",
        "print()\n",
        "\n",
        "count=1\n",
        "\n",
        "while count<=10:\n",
        "  print('나무를', count, '번 찍었습니다.' )\n",
        "  count=count+1\n",
        "\n",
        "print()\n",
        "print('간다~간다~넘어간다!!!')"
      ],
      "execution_count": null,
      "outputs": [
        {
          "output_type": "stream",
          "text": [
            "열 번 찍어 안 넘어가는 나무 없다!!!\n",
            "\n",
            "나무를 1 번 찍었습니다.\n",
            "나무를 2 번 찍었습니다.\n",
            "나무를 3 번 찍었습니다.\n",
            "나무를 4 번 찍었습니다.\n",
            "나무를 5 번 찍었습니다.\n",
            "나무를 6 번 찍었습니다.\n",
            "나무를 7 번 찍었습니다.\n",
            "나무를 8 번 찍었습니다.\n",
            "나무를 9 번 찍었습니다.\n",
            "나무를 10 번 찍었습니다.\n",
            "\n",
            "간다~간다~넘어간다!!!\n"
          ],
          "name": "stdout"
        }
      ]
    },
    {
      "cell_type": "code",
      "metadata": {
        "id": "2oryw9F8TK8V",
        "colab": {
          "base_uri": "https://localhost:8080/",
          "height": 291
        },
        "outputId": "37cd39b5-704b-4938-8d7a-9777637c21e3"
      },
      "source": [
        "# 실습2\n",
        "print('티끌 모아 태산!!!')\n",
        "print()\n",
        "\n",
        "coin=1\n",
        "while coin<=10:\n",
        "  print(('땡그랑, '*coin)+'동전', str(coin*100)+'원을 모았습니다.')\n",
        "  coin=coin+1\n",
        "\n",
        "print()                                        \n",
        "print('산다. 산다. 집 산다!!!')"
      ],
      "execution_count": null,
      "outputs": [
        {
          "output_type": "stream",
          "text": [
            "티끌 모아 태산!!!\n",
            "\n",
            "땡그랑, 동전 100원을 모았습니다.\n",
            "땡그랑, 땡그랑, 동전 200원을 모았습니다.\n",
            "땡그랑, 땡그랑, 땡그랑, 동전 300원을 모았습니다.\n",
            "땡그랑, 땡그랑, 땡그랑, 땡그랑, 동전 400원을 모았습니다.\n",
            "땡그랑, 땡그랑, 땡그랑, 땡그랑, 땡그랑, 동전 500원을 모았습니다.\n",
            "땡그랑, 땡그랑, 땡그랑, 땡그랑, 땡그랑, 땡그랑, 동전 600원을 모았습니다.\n",
            "땡그랑, 땡그랑, 땡그랑, 땡그랑, 땡그랑, 땡그랑, 땡그랑, 동전 700원을 모았습니다.\n",
            "땡그랑, 땡그랑, 땡그랑, 땡그랑, 땡그랑, 땡그랑, 땡그랑, 땡그랑, 동전 800원을 모았습니다.\n",
            "땡그랑, 땡그랑, 땡그랑, 땡그랑, 땡그랑, 땡그랑, 땡그랑, 땡그랑, 땡그랑, 동전 900원을 모았습니다.\n",
            "땡그랑, 땡그랑, 땡그랑, 땡그랑, 땡그랑, 땡그랑, 땡그랑, 땡그랑, 땡그랑, 땡그랑, 동전 1000원을 모았습니다.\n",
            "\n",
            "산다. 산다. 집 산다!!!\n"
          ],
          "name": "stdout"
        }
      ]
    },
    {
      "cell_type": "code",
      "metadata": {
        "id": "bHZBPX3pU7d4",
        "colab": {
          "base_uri": "https://localhost:8080/",
          "height": 199
        },
        "outputId": "d0674d6e-26f5-47bc-fd44-a47819f2b3db"
      },
      "source": [
        "# 실습3\n",
        "\n",
        "import random\n",
        "print('로또번호 생성기 프로그램')\n",
        "\n",
        "num=1\n",
        "while num<=6:\n",
        "  print(str(num)+'번째 번호는', str(random.randint(1,45))+'입니다.' )\n",
        "  num=num+1\n",
        "\n",
        "print()\n",
        "print()\n",
        "print('산다. 산다. 집 산다!!!')"
      ],
      "execution_count": null,
      "outputs": [
        {
          "output_type": "stream",
          "text": [
            "로또번호 생성기 프로그램\n",
            "1번째 번호는 27입니다.\n",
            "2번째 번호는 36입니다.\n",
            "3번째 번호는 27입니다.\n",
            "4번째 번호는 22입니다.\n",
            "5번째 번호는 2입니다.\n",
            "6번째 번호는 31입니다.\n",
            "\n",
            "\n",
            "산다. 산다. 집 산다!!!\n"
          ],
          "name": "stdout"
        }
      ]
    },
    {
      "cell_type": "code",
      "metadata": {
        "id": "vnIq_4_MWSkt",
        "colab": {
          "base_uri": "https://localhost:8080/",
          "height": 180
        },
        "outputId": "a8673587-35a2-4a1b-80c7-0b09237abf3a"
      },
      "source": [
        "# 실습 4-1\n",
        "\n",
        "password='imhungry'\n",
        "\n",
        "while password != 'pythonisfun':\n",
        "  print ('암호를 입력하세요.')\n",
        "  password=input()\n",
        "\n",
        "if password== 'pythonisfun':\n",
        "  print('로그인 성공')\n",
        "\n"
      ],
      "execution_count": null,
      "outputs": [
        {
          "output_type": "stream",
          "text": [
            "암호를 입력하세요.\n",
            "hi\n",
            "암호를 입력하세요.\n",
            "hi\n",
            "암호를 입력하세요.\n",
            "hi\n",
            "암호를 입력하세요.\n",
            "pythonisfun\n",
            "로그인 성공\n"
          ],
          "name": "stdout"
        }
      ]
    },
    {
      "cell_type": "code",
      "metadata": {
        "id": "3ZCcgCmOYXmN",
        "colab": {
          "base_uri": "https://localhost:8080/",
          "height": 217
        },
        "outputId": "77b068e1-6d5a-4a90-9403-b9ee2a01568b"
      },
      "source": [
        "# 실습 4-2\n",
        "\n",
        "password='imhungry'\n",
        "trial=0\n",
        "\n",
        "while password != 'pythonisfun' and trial<5:\n",
        "  print ('암호를 입력하세요.')\n",
        "  password=input()\n",
        "  trial=trial+1\n",
        "\n",
        "if password!= 'pythonisfun' and trial>=5:\n",
        "  print('5회 틀렸습니다. 로그인에 실패하셨습니다.')\n",
        "else:\n",
        "  print('로그인 성공')\n",
        "\n",
        "\n",
        "\n",
        "# while password != 'pythonisfun' and trial<5:\n",
        "#   print ('암호를 입력하세요.')\n",
        "#   password=input()\n",
        "#   trial=trial+1\n",
        "\n",
        "#   if password== 'pythonisfun' and trial>=5:\n",
        "#     print('로그인 성공')\n",
        "#     break\n",
        "#   else print('5회 틀렸습니다. 로그인에 실패하셨습니다.')\n"
      ],
      "execution_count": null,
      "outputs": [
        {
          "output_type": "stream",
          "text": [
            "암호를 입력하세요.\n",
            "hi\n",
            "암호를 입력하세요.\n",
            "hello\n",
            "암호를 입력하세요.\n",
            "wow\n",
            "암호를 입력하세요.\n",
            "interesting\n",
            "암호를 입력하세요.\n",
            "Bye\n",
            "5회 틀렸습니다. 로그인에 실패하셨습니다.\n"
          ],
          "name": "stdout"
        }
      ]
    },
    {
      "cell_type": "code",
      "metadata": {
        "id": "L6C_w_viaXba",
        "colab": {
          "base_uri": "https://localhost:8080/",
          "height": 199
        },
        "outputId": "0afa80ee-96ad-40a2-be00-d04994ba7671"
      },
      "source": [
        "# 실습 5-1\n",
        "num=int(input('원하는 단은: '))\n",
        "multiple=1\n",
        "\n",
        "while multiple<=9:\n",
        "  print(str(num)+'*'+str(multiple)+'='+str(num*multiple))\n",
        "  multiple=multiple+1\n"
      ],
      "execution_count": null,
      "outputs": [
        {
          "output_type": "stream",
          "text": [
            "원하는 단은: 9\n",
            "9*1=9\n",
            "9*2=18\n",
            "9*3=27\n",
            "9*4=36\n",
            "9*5=45\n",
            "9*6=54\n",
            "9*7=63\n",
            "9*8=72\n",
            "9*9=81\n"
          ],
          "name": "stdout"
        }
      ]
    },
    {
      "cell_type": "code",
      "metadata": {
        "id": "Va0dQGBycXgw",
        "colab": {
          "base_uri": "https://localhost:8080/",
          "height": 1000
        },
        "outputId": "e90d6bb0-7a51-4368-eb98-476c78e28632"
      },
      "source": [
        "# 실습 5-2\n",
        "num=2\n",
        "multiple=1\n",
        "\n",
        "while num<=9:\n",
        "  print(str(num)+'단')\n",
        "  while multiple<=9:\n",
        "    print(str(num)+'*'+str(multiple)+'='+str(num*multiple))\n",
        "    multiple=multiple+1\n",
        "  num=num+1\n",
        "  multiple=1\n",
        "  print()"
      ],
      "execution_count": null,
      "outputs": [
        {
          "output_type": "stream",
          "text": [
            "2단\n",
            "2*1=2\n",
            "2*2=4\n",
            "2*3=6\n",
            "2*4=8\n",
            "2*5=10\n",
            "2*6=12\n",
            "2*7=14\n",
            "2*8=16\n",
            "2*9=18\n",
            "\n",
            "3단\n",
            "3*1=3\n",
            "3*2=6\n",
            "3*3=9\n",
            "3*4=12\n",
            "3*5=15\n",
            "3*6=18\n",
            "3*7=21\n",
            "3*8=24\n",
            "3*9=27\n",
            "\n",
            "4단\n",
            "4*1=4\n",
            "4*2=8\n",
            "4*3=12\n",
            "4*4=16\n",
            "4*5=20\n",
            "4*6=24\n",
            "4*7=28\n",
            "4*8=32\n",
            "4*9=36\n",
            "\n",
            "5단\n",
            "5*1=5\n",
            "5*2=10\n",
            "5*3=15\n",
            "5*4=20\n",
            "5*5=25\n",
            "5*6=30\n",
            "5*7=35\n",
            "5*8=40\n",
            "5*9=45\n",
            "\n",
            "6단\n",
            "6*1=6\n",
            "6*2=12\n",
            "6*3=18\n",
            "6*4=24\n",
            "6*5=30\n",
            "6*6=36\n",
            "6*7=42\n",
            "6*8=48\n",
            "6*9=54\n",
            "\n",
            "7단\n",
            "7*1=7\n",
            "7*2=14\n",
            "7*3=21\n",
            "7*4=28\n",
            "7*5=35\n",
            "7*6=42\n",
            "7*7=49\n",
            "7*8=56\n",
            "7*9=63\n",
            "\n",
            "8단\n",
            "8*1=8\n",
            "8*2=16\n",
            "8*3=24\n",
            "8*4=32\n",
            "8*5=40\n",
            "8*6=48\n",
            "8*7=56\n",
            "8*8=64\n",
            "8*9=72\n",
            "\n",
            "9단\n",
            "9*1=9\n",
            "9*2=18\n",
            "9*3=27\n",
            "9*4=36\n",
            "9*5=45\n",
            "9*6=54\n",
            "9*7=63\n",
            "9*8=72\n",
            "9*9=81\n",
            "\n"
          ],
          "name": "stdout"
        }
      ]
    },
    {
      "cell_type": "code",
      "metadata": {
        "id": "2TISq8EXe3yu",
        "colab": {
          "base_uri": "https://localhost:8080/",
          "height": 72
        },
        "outputId": "99ff9d78-75cc-4d37-cd18-d2090449439e"
      },
      "source": [
        "# 실습6\n",
        "numInput=int(input('숫자를 입력하세요 : '))\n",
        "\n",
        "num=1\n",
        "Sum=0\n",
        "while num<=numInput:\n",
        "  Sum=Sum+num\n",
        "  num=num+1\n",
        "\n",
        "print()\n",
        "print('합 :', Sum)\n"
      ],
      "execution_count": null,
      "outputs": [
        {
          "output_type": "stream",
          "text": [
            "숫자를 입력하세요 : 100\n",
            "\n",
            "합 : 5050\n"
          ],
          "name": "stdout"
        }
      ]
    },
    {
      "cell_type": "code",
      "metadata": {
        "id": "ShK6aA6MftDb",
        "colab": {
          "base_uri": "https://localhost:8080/",
          "height": 235
        },
        "outputId": "63901d24-3cd0-48f4-d9be-f0e75e14d74a"
      },
      "source": [
        "# 실습7\n",
        "print('숫자를 입력하세요.')\n",
        "\n",
        "sumInput= 0\n",
        "maxInput= float('-inf')\n",
        "minInput= float('inf')\n",
        "\n",
        "numcount=0\n",
        "\n",
        "while True:\n",
        "  numInput=input()\n",
        "  numcount=numcount+1\n",
        "  if numInput=='입력 끝':\n",
        "    break \n",
        "\n",
        "  sumInput=sumInput+int(numInput)\n",
        "  avgInput=sumInput/numcount\n",
        "  if maxInput<int(numInput):\n",
        "    maxInput=int(numInput)\n",
        "  if minInput>int(numInput):\n",
        "    minInput=int(numInput)\n",
        "\n",
        "\n",
        "print()\n",
        "print('입력 받은 숫자들의 합:',sumInput)\n",
        "print('입력 받은 숫자들의 평균:',avgInput)\n",
        "print('가장 큰 숫자:',maxInput)\n",
        "print('가장 작은 숫자:', minInput)\n",
        "  "
      ],
      "execution_count": null,
      "outputs": [
        {
          "output_type": "stream",
          "text": [
            "숫자를 입력하세요.\n",
            "10\n",
            "11\n",
            "9\n",
            "15\n",
            "3\n",
            "입력 끝\n",
            "\n",
            "입력 받은 숫자들의 합: 48\n",
            "입력 받은 숫자들의 평균: 9.6\n",
            "가장 큰 숫자: 15\n",
            "가장 작은 숫자: 3\n"
          ],
          "name": "stdout"
        }
      ]
    },
    {
      "cell_type": "markdown",
      "metadata": {
        "id": "0pwAzXG_QSxj"
      },
      "source": [
        "##동영상 강의"
      ]
    },
    {
      "cell_type": "code",
      "metadata": {
        "id": "NJV5f8uSg_O1",
        "colab": {
          "base_uri": "https://localhost:8080/",
          "height": 344
        },
        "outputId": "2e59ea56-298e-4f0f-fbc1-042e46f74174"
      },
      "source": [
        "print('''\n",
        "당신이 생각하는 숫자를 맞히겠습니다.\n",
        "\n",
        "===========================================================\n",
        "1부터 1000가운데 숫자 하나를 생각하세요.\n",
        "10번 안에 당신이 생각하고 있는 숫자를 맞힐 수 있습니다.\n",
        "숫자를 생각하셨으면 비밀리에 메모해 두고 enter를 누르세요.\n",
        "===========================================================''')\n",
        "input()\n",
        "\n",
        "startNum=1\n",
        "EndNum=1000\n",
        "guesscount=0\n",
        "\n",
        "while True:\n",
        "  guess=int((startNum+EndNum)/2)\n",
        "  guesscount=guesscount+1\n",
        "  print()\n",
        "  ans1=input('Trial '+str(guesscount)+ '. 당신이 생각하고 있는 숫자는 '+str(guess)+'입니다. Yes or no?')\n",
        "\n",
        "  if ans1 !='Yes' and ans1 !='yes' and ans1 !='y':\n",
        "    ans2=input('Oops! 내가 예측한 숫자가 크나요 작나요(High or low?)')\n",
        "\n",
        "    if ans2=='low':\n",
        "      startNum=guess+1\n",
        "    else:\n",
        "      EndNum=guess-1\n",
        "  \n",
        "  else:\n",
        "    print()\n",
        "    print(guesscount, '번 만에 찾았습니다. 내 실력 대단하죠? 게임을 종료합니다.')\n",
        "    break\n",
        "\n"
      ],
      "execution_count": null,
      "outputs": [
        {
          "output_type": "stream",
          "text": [
            "\n",
            "당신이 생각하는 숫자를 맞히겠습니다.\n",
            "\n",
            "===========================================================\n",
            "1부터 1000가운데 숫자 하나를 생각하세요.\n",
            "10번 안에 당신이 생각하고 있는 숫자를 맞힐 수 있습니다.\n",
            "숫자를 생각하셨으면 비밀리에 메모해 두고 enter를 누르세요.\n",
            "===========================================================\n",
            "\n",
            "\n",
            "Trial 1. 당신이 생각하고 있는 숫자는 500입니다. Yes or no?no\n",
            "Oops! 내가 예측한 숫자가 크나요 작나요(High or low?)low\n",
            "\n",
            "Trial 2. 당신이 생각하고 있는 숫자는 750입니다. Yes or no?no\n",
            "Oops! 내가 예측한 숫자가 크나요 작나요(High or low?)High\n",
            "\n",
            "Trial 3. 당신이 생각하고 있는 숫자는 625입니다. Yes or no?Yes\n",
            "3 번 만에 찾았습니다. 내 실력 대단하죠? 게임을 종료합니다.\n"
          ],
          "name": "stdout"
        }
      ]
    },
    {
      "cell_type": "markdown",
      "metadata": {
        "id": "DBCiBnkzCu1g"
      },
      "source": [
        "## 실습강의"
      ]
    },
    {
      "cell_type": "code",
      "metadata": {
        "id": "fthScIwpCwYO",
        "colab": {
          "base_uri": "https://localhost:8080/",
          "height": 1000
        },
        "outputId": "3a1f173b-30b4-430b-a564-92fd58c79629"
      },
      "source": [
        "# 실습 1. Dragon realm 프로그램\n",
        "import time\n",
        "import random\n",
        "\n",
        "#요구1\n",
        "while True: \n",
        "  print('You are in a land full of dragons.')\n",
        "  time.sleep(1)\n",
        "  print('In front of you, you see two caves.')\n",
        "  time.sleep(1)\n",
        "  print('In one cave, the dragon is friendly,')\n",
        "  time.sleep(1)\n",
        "  print('and will share his treasure with you.')\n",
        "  time.sleep(1)\n",
        "  print('The other dragon is greedy and hungry,')\n",
        "  time.sleep(1)\n",
        "  print('and will eat you on sight.')\n",
        "  time.sleep(1)\n",
        "\n",
        "  #요구2\n",
        "  while True:\n",
        "    ans=input('which cave will you go into? (1 or 2)')\n",
        "    if ans=='1' or ans=='2':\n",
        "      break\n",
        "  \n",
        "  #요구3\n",
        "  print('you approach the cave...')\n",
        "  time.sleep(1)\n",
        "  print('It is dark and spooky...')\n",
        "  time.sleep(1)\n",
        "  print('A large dragon jumps out in front of you!')\n",
        "  time.sleep(1)\n",
        "  print('He opens his jaws and...')\n",
        "  time.sleep(1)\n",
        "\n",
        "  #요구4&5\n",
        "  if int(ans)==random.randint(1,2):\n",
        "    print('Gives you his treasure!')\n",
        "    print ('''\n",
        "                               __/>^^^;:,'\n",
        "            .    \\'    ,      /-.       :,/|/|'\n",
        "               _______     __/ ^         :,/ \\__'\n",
        "           _ ./_|___|_\\. _(~             ;/ /  /'\n",
        "              \\ \\   / /    `-\\'--._       / / ,<  ___'\n",
        "               \\ \\' \\' /   ,__.   /=\\     /  _/  >|_\\'.'\n",
        "                \\ \" /     `_ `--------\\'    __ / \\',\\ \\\\'\n",
        "                 \\./   ,_// ,---_____,   ,_  \\_  ,| |'\n",
        "                  V     `--\\' |=|           \\._/ ,/  |'\n",
        "                              \\=\\            `,,/   |'\n",
        "                               \\=\\            ||    /'\n",
        "                                \\=\\____       |\\    \\\\'\n",
        "                                / \\/    `     <__)    \\\\'\n",
        "                                | |                    |'\n",
        "                              ,__\\,\\                   /'\n",
        "                             ,--____>    /\\.         ./'\n",
        "                             \\'-__________>  \\.______/'\n",
        "        ''')\n",
        "  else:\n",
        "    print('Gobbles you down in one bite!')\n",
        "    print ('''\n",
        "              (  )   /\\   _                 (    ' \n",
        "               \\ |  (  \\ ( \\.(               )                      _____'\n",
        "             \\  \\ \\  `  `   ) \\             (  ___                 / _   \\\\'\n",
        "            (_`    \\+   . x  ( .\\            \\/   \\____-----------/ (o)   \\_'\n",
        "           - .-               \\+  ;          (  O                           \\____'\n",
        "                                     )        \\_____________  `              \\  /'\n",
        "           (__                +- .( -\\'.- <. - _  VVVVVVV VV V\\                 \\/'\n",
        "           (_____            ._._: <_ - <- _  (--  _AAAAAAA__A_/                  |'\n",
        "             .    /./.+-  . .- /  +--  - .     \\______________//_              \\_______'\n",
        "             (__ \\' /x  / x _/ (                                  \\___\\'          \\     /'\n",
        "            , x / ( \\'  . / .  /                                      |           \\   /'\n",
        "               /  /  _/ /    +                                      /              \\/'\n",
        "             \\'  (__/                                             /                  \\\\'\n",
        "        ''')\n",
        "  \n",
        "  # 요구 6\n",
        "  ans2= input('Do you want to play again? (yes or no)')\n",
        "\n",
        "  #요구 7\n",
        "  if ans2!='yes' and ans2!='y':\n",
        "    print('Thank you!')\n",
        "    break\n"
      ],
      "execution_count": null,
      "outputs": [
        {
          "output_type": "stream",
          "text": [
            "You are in a land full of dragons.\n",
            "In front of you, you see two caves.\n",
            "In one cave, the dragon is friendly,\n",
            "and will share his treasure with you.\n",
            "The other dragon is greedy and hungry,\n",
            "and will eat you on sight.\n",
            "which cave will you go into? (1 or 2)1\n",
            "you approach the cave...\n",
            "It is dark and spooky...\n",
            "A large dragon jumps out in front of you!\n",
            "He opens his jaws and...\n",
            "Gobbles you down in one bite!\n",
            "\n",
            "              (  )   /\\   _                 (    ' \n",
            "               \\ |  (  \\ ( \\.(               )                      _____'\n",
            "             \\  \\ \\  `  `   ) \\             (  ___                 / _   \\'\n",
            "            (_`    \\+   . x  ( .\\            \\/   \\____-----------/ (o)   \\_'\n",
            "           - .-               \\+  ;          (  O                           \\____'\n",
            "                                     )        \\_____________  `              \\  /'\n",
            "           (__                +- .( -'.- <. - _  VVVVVVV VV V\\                 \\/'\n",
            "           (_____            ._._: <_ - <- _  (--  _AAAAAAA__A_/                  |'\n",
            "             .    /./.+-  . .- /  +--  - .     \\______________//_              \\_______'\n",
            "             (__ ' /x  / x _/ (                                  \\___'          \\     /'\n",
            "            , x / ( '  . / .  /                                      |           \\   /'\n",
            "               /  /  _/ /    +                                      /              \\/'\n",
            "             '  (__/                                             /                  \\'\n",
            "        \n",
            "Do you want to play again? (yes or no)yes\n",
            "You are in a land full of dragons.\n",
            "In front of you, you see two caves.\n",
            "In one cave, the dragon is friendly,\n",
            "and will share his treasure with you.\n",
            "The other dragon is greedy and hungry,\n",
            "and will eat you on sight.\n",
            "which cave will you go into? (1 or 2)1\n",
            "you approach the cave...\n",
            "It is dark and spooky...\n",
            "A large dragon jumps out in front of you!\n",
            "He opens his jaws and...\n",
            "Gobbles you down in one bite!\n",
            "\n",
            "              (  )   /\\   _                 (    ' \n",
            "               \\ |  (  \\ ( \\.(               )                      _____'\n",
            "             \\  \\ \\  `  `   ) \\             (  ___                 / _   \\'\n",
            "            (_`    \\+   . x  ( .\\            \\/   \\____-----------/ (o)   \\_'\n",
            "           - .-               \\+  ;          (  O                           \\____'\n",
            "                                     )        \\_____________  `              \\  /'\n",
            "           (__                +- .( -'.- <. - _  VVVVVVV VV V\\                 \\/'\n",
            "           (_____            ._._: <_ - <- _  (--  _AAAAAAA__A_/                  |'\n",
            "             .    /./.+-  . .- /  +--  - .     \\______________//_              \\_______'\n",
            "             (__ ' /x  / x _/ (                                  \\___'          \\     /'\n",
            "            , x / ( '  . / .  /                                      |           \\   /'\n",
            "               /  /  _/ /    +                                      /              \\/'\n",
            "             '  (__/                                             /                  \\'\n",
            "        \n",
            "Do you want to play again? (yes or no)no\n",
            "Thank you!\n"
          ],
          "name": "stdout"
        }
      ]
    },
    {
      "cell_type": "code",
      "metadata": {
        "id": "erSf0WPkJiEZ",
        "colab": {
          "base_uri": "https://localhost:8080/",
          "height": 724
        },
        "outputId": "04b16ff0-ca30-413c-ab6b-5ad62c69f8c6"
      },
      "source": [
        "# 실습 2. Dragon realm 프로그램 확장본\n",
        "import time\n",
        "import random\n",
        "\n",
        "#요구1\n",
        "while True: \n",
        "  print('You are in a land full of dragons.')\n",
        "  time.sleep(1)\n",
        "  print('In front of you, you see two caves.')\n",
        "  time.sleep(1)\n",
        "  print('In one cave, the dragon is friendly,')\n",
        "  time.sleep(1)\n",
        "  print('and will share his treasure with you.')\n",
        "  time.sleep(1)\n",
        "  print('The other dragon is greedy and hungry,')\n",
        "  time.sleep(1)\n",
        "  print('and will eat you on sight.')\n",
        "  time.sleep(1)\n",
        "\n",
        "  #요구2\n",
        "  while True:\n",
        "    ans=input('which cave will you go into? (1 or 2)')\n",
        "    if ans=='1' or ans=='2':\n",
        "      break\n",
        "  print('you approach the cave...')\n",
        "  time.sleep(1)\n",
        "  \n",
        "  #요구3\n",
        "  print('It is dark and spooky...')\n",
        "  time.sleep(1)\n",
        "  print('A large dragon jumps out in front of you!')\n",
        "  time.sleep(1)\n",
        "  print('He opens his jaws and...')\n",
        "  time.sleep(1)\n",
        "\n",
        "  #요구4&5\n",
        "  if int(ans)==random.randint(1,2):\n",
        "    print('Gives you his treasure!')\n",
        "    print ('''\n",
        "                               __/>^^^;:,'\n",
        "            .    \\'    ,      /-.       :,/|/|'\n",
        "               _______     __/ ^         :,/ \\__'\n",
        "           _ ./_|___|_\\. _(~             ;/ /  /'\n",
        "              \\ \\   / /    `-\\'--._       / / ,<  ___'\n",
        "               \\ \\' \\' /   ,__.   /=\\     /  _/  >|_\\'.'\n",
        "                \\ \" /     `_ `--------\\'    __ / \\',\\ \\\\'\n",
        "                 \\./   ,_// ,---_____,   ,_  \\_  ,| |'\n",
        "                  V     `--\\' |=|           \\._/ ,/  |'\n",
        "                              \\=\\            `,,/   |'\n",
        "                               \\=\\            ||    /'\n",
        "                                \\=\\____       |\\    \\\\'\n",
        "                                / \\/    `     <__)    \\\\'\n",
        "                                | |                    |'\n",
        "                              ,__\\,\\                   /'\n",
        "                             ,--____>    /\\.         ./'\n",
        "                             \\'-__________>  \\.______/'\n",
        "    ''')\n",
        "  else:\n",
        "    print('tries to gobble you down in one bite!')\n",
        "    print ('''\n",
        "              (  )   /\\   _                 (    ' \n",
        "               \\ |  (  \\ ( \\.(               )                      _____'\n",
        "             \\  \\ \\  `  `   ) \\             (  ___                 / _   \\\\'\n",
        "            (_`    \\+   . x  ( .\\            \\/   \\____-----------/ (o)   \\_'\n",
        "           - .-               \\+  ;          (  O                           \\____'\n",
        "                                     )        \\_____________  `              \\  /'\n",
        "           (__                +- .( -\\'.- <. - _  VVVVVVV VV V\\                 \\/'\n",
        "           (_____            ._._: <_ - <- _  (--  _AAAAAAA__A_/                  |'\n",
        "             .    /./.+-  . .- /  +--  - .     \\______________//_              \\_______'\n",
        "             (__ \\' /x  / x _/ (                                  \\___\\'          \\     /'\n",
        "            , x / ( \\'  . / .  /                                      |           \\   /'\n",
        "               /  /  _/ /    +                                      /              \\/'\n",
        "             \\'  (__/                                             /                  \\\\'\n",
        "      ''')\n",
        "\n",
        "    ans3= input('You can attack him 6 times. Would you? (yes or no)')\n",
        "    if ans3=='yes' or ans3=='y':\n",
        "      dragon=100\n",
        "      fight=0\n",
        "      print('Dragon HP('+str(dragon)+'/100)')\n",
        "\n",
        "      while fight<=6:\n",
        "        fight=fight+1\n",
        "        dragon=dragon-random.randint(1,30)\n",
        "        print('He got your attack '+str(fight)+'time. Now Dragon HP('+str(dragon)+'/100)')\n",
        "\n",
        "        if dragon<=0:\n",
        "          print('You win! He knocked down!')\n",
        "          break\n",
        "\n",
        "      if fight>6 and dragon>0:\n",
        "        print('You lose! He gobbles you down in one bite!') \n",
        "  \n",
        "  # 요구6\n",
        "  ans2= input('Do you want to play again? (yes or no)')\n",
        "\n",
        "  if ans2!='yes' and ans2!='y':\n",
        "    print('Thank you!')\n",
        "    break"
      ],
      "execution_count": null,
      "outputs": [
        {
          "output_type": "stream",
          "text": [
            "You are in a land full of dragons.\n",
            "In front of you, you see two caves.\n",
            "In one cave, the dragon is friendly,\n",
            "and will share his treasure with you.\n",
            "The other dragon is greedy and hungry,\n",
            "and will eat you on sight.\n",
            "which cave will you go into? (1 or 2)1\n",
            "you approach the cave...\n",
            "It is dark and spooky...\n",
            "A large dragon jumps out in front of you!\n",
            "He opens his jaws and...\n",
            "tries to gobble you down in one bite!\n",
            "\n",
            "              (  )   /\\   _                 (    ' \n",
            "               \\ |  (  \\ ( \\.(               )                      _____'\n",
            "             \\  \\ \\  `  `   ) \\             (  ___                 / _   \\'\n",
            "            (_`    \\+   . x  ( .\\            \\/   \\____-----------/ (o)   \\_'\n",
            "           - .-               \\+  ;          (  O                           \\____'\n",
            "                                     )        \\_____________  `              \\  /'\n",
            "           (__                +- .( -'.- <. - _  VVVVVVV VV V\\                 \\/'\n",
            "           (_____            ._._: <_ - <- _  (--  _AAAAAAA__A_/                  |'\n",
            "             .    /./.+-  . .- /  +--  - .     \\______________//_              \\_______'\n",
            "             (__ ' /x  / x _/ (                                  \\___'          \\     /'\n",
            "            , x / ( '  . / .  /                                      |           \\   /'\n",
            "               /  /  _/ /    +                                      /              \\/'\n",
            "             '  (__/                                             /                  \\'\n",
            "      \n",
            "You can attack him 6 times. Would you? (yes or no)yes\n",
            "Dragon HP(100/100)\n",
            "He got your attack 1time. Now Dragon HP(98/100)\n",
            "He got your attack 2time. Now Dragon HP(83/100)\n",
            "He got your attack 3time. Now Dragon HP(64/100)\n",
            "He got your attack 4time. Now Dragon HP(58/100)\n",
            "He got your attack 5time. Now Dragon HP(36/100)\n",
            "He got your attack 6time. Now Dragon HP(23/100)\n",
            "He got your attack 7time. Now Dragon HP(-3/100)\n",
            "You win! He knocked down!\n",
            "Do you want to play again? (yes or no)no\n",
            "Thank you!\n"
          ],
          "name": "stdout"
        }
      ]
    }
  ]
}