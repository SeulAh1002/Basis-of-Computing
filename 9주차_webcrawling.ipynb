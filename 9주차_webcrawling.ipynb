{
  "nbformat": 4,
  "nbformat_minor": 0,
  "metadata": {
    "colab": {
      "name": "9주차_webcrawling.ipynb",
      "provenance": [],
      "collapsed_sections": [],
      "authorship_tag": "ABX9TyMUVF2kO1soUqD1P+o6mN21",
      "include_colab_link": true
    },
    "kernelspec": {
      "name": "python3",
      "display_name": "Python 3"
    }
  },
  "cells": [
    {
      "cell_type": "markdown",
      "metadata": {
        "id": "view-in-github",
        "colab_type": "text"
      },
      "source": [
        "<a href=\"https://colab.research.google.com/github/SeulAh1002/Basis-of-Computing/blob/main/9%EC%A3%BC%EC%B0%A8_webcrawling.ipynb\" target=\"_parent\"><img src=\"https://colab.research.google.com/assets/colab-badge.svg\" alt=\"Open In Colab\"/></a>"
      ]
    },
    {
      "cell_type": "markdown",
      "metadata": {
        "id": "bM5YI5ki7PQx"
      },
      "source": [
        "## 동영상강의"
      ]
    },
    {
      "cell_type": "code",
      "metadata": {
        "id": "3DSt8CuY7MEm"
      },
      "source": [
        "css_text='''\n",
        "h1{\n",
        "  color: red;\n",
        "  font-size: 5em;\n",
        "}\n",
        "\n",
        "p{\n",
        "  color: black;\n",
        "}\n",
        ".special{\n",
        "  color: orange;\n",
        "  font-weight: bold;\n",
        "}\n",
        "'''\n",
        "\n",
        "with open('styles.css', 'w') as css_file:\n",
        "  css_file.write(css_text)\n",
        "\n",
        "html_text=\"\"\"\n",
        "<!DOCTYPE html>\n",
        "<html>\n",
        "<head>\n",
        "<meta charset= \"utf-8\">\n",
        "<title> My test page </title>\n",
        "<link rel=\"stylesheet\" href=\"styles.css\">\n",
        "</head>\n",
        "\n",
        "<body>\n",
        "<p> This is my page </p>\n",
        "<h1>This is a Heading</h1>\n",
        "<p>This is a paragraph.</p>\n",
        "<h1>Some music</h1>\n",
        "<p>I really enjoy <strong>playing the drums</strong>.\n",
        "One of my favorite drummers is Neal Peart, who plays in the band.\n",
        "<a href=\"https://en.wikipedia.org/wiki/Rush_%28band%29\" title=\"Rush Wikipedia article\">Rush</a>.\n",
        "my favorite Rush album is currently Moving Pictures.</p>\n",
        "<img src=\"https://upload.wikimedia.org/wikipedia/commons/4/46/Rush-in-concert.jpg\">\n",
        "<ul>\n",
        "<li>항목 하나</li>\n",
        "<li class=\"special\">항목 둘</li>\n",
        "<li>항목 <em>셋</em></li>\n",
        "<ul>\n",
        "<button onclikc=\"alertDialogBox()\">\n",
        "alert 대화상자 </button>\n",
        "<script>\n",
        "function alertDialogBox(){\n",
        "  alert(\"확인버튼을 누르세요\");\n",
        "}\n",
        "</script>\n",
        "<button onclick=\"document.write(4*5)\"> 4*5=?? 버튼을 눌러보세요!</button>\n",
        "<p>다음 예제는 버튼을 클릭하여 특정 태그의 내용을 변경하는 예제입니다.</p>\n",
        "\n",
        "<h5>예제</h5>\n",
        "<button on click=\"document.getElementByID('js_intro_01').innerHTML='단락의 내용이 변경되었습니다.'\">단락의 내용 변경</button>\n",
        "\n",
        "\n",
        "</body>\n",
        "</html>\n",
        "\"\"\"\n",
        "\n",
        "html_file=open('html_file.html', 'w')\n",
        "html_file.write(html_text)\n",
        "html_file.close()"
      ],
      "execution_count": null,
      "outputs": []
    }
  ]
}