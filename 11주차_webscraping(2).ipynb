{
  "nbformat": 4,
  "nbformat_minor": 0,
  "metadata": {
    "colab": {
      "name": "11주차_webscraping(2).ipynb",
      "provenance": [],
      "collapsed_sections": [],
      "authorship_tag": "ABX9TyNrKeOa+p8pmlAJ/ifpqmec",
      "include_colab_link": true
    },
    "kernelspec": {
      "name": "python3",
      "display_name": "Python 3"
    }
  },
  "cells": [
    {
      "cell_type": "markdown",
      "metadata": {
        "id": "view-in-github",
        "colab_type": "text"
      },
      "source": [
        "<a href=\"https://colab.research.google.com/github/SeulAh1002/Basis-of-Computing/blob/main/11%EC%A3%BC%EC%B0%A8_webscraping(2).ipynb\" target=\"_parent\"><img src=\"https://colab.research.google.com/assets/colab-badge.svg\" alt=\"Open In Colab\"/></a>"
      ]
    },
    {
      "cell_type": "markdown",
      "metadata": {
        "id": "lkdOzSVRemxk"
      },
      "source": [
        "# 11주차"
      ]
    },
    {
      "cell_type": "markdown",
      "metadata": {
        "id": "vA6fT9Dpep6v"
      },
      "source": [
        "## 동영상 강의"
      ]
    },
    {
      "cell_type": "code",
      "metadata": {
        "id": "QQmMbo9MelWV",
        "colab": {
          "base_uri": "https://localhost:8080/"
        },
        "outputId": "a31bfdc6-b190-4e78-ef55-ed6be1325484"
      },
      "source": [
        "# 시카고 샌드위치 맛집 데이터 얻기\n",
        "\n",
        "from bs4 import BeautifulSoup\n",
        "from urllib.request import urlopen\n",
        "import re\n",
        "from urllib.parse import urljoin\n",
        "\n",
        "\n",
        "url_base = 'http://www.chicagomag.com/'\n",
        "url_sub='/Chicago-Magazine/November-2012/Best-Sandwiches-Chicago/'\n",
        "url= url_base + url_sub\n",
        "page =urlopen(url)\n",
        "soup= BeautifulSoup(page, 'html.parser')\n",
        "#print(soup.prettify())\n",
        "\n",
        "rank= [ ]\n",
        "main_menu=[ ]\n",
        "cafe_name=[ ]\n",
        "url_addr=[ ]\n",
        "list_soup = soup.find_all('div','sammy')\n",
        "\n",
        "for item in list_soup:\n",
        "  rank.append(item.find(class_='sammyRank').get_text())\n",
        "  tmp_string =item.find(class_='sammyListing').get_text()\n",
        "  tmp_string =re.split(('\\n|\\r\\n'), tmp_string)\n",
        "\n",
        "  main_menu.append(tmp_string[0])\n",
        "  cafe_name.append(tmp_string[1])\n",
        "\n",
        "  url_addr.append(urljoin(url_base, item.find('a')['href']))\n",
        "\n",
        "print(len(rank), len(main_menu), len(cafe_name), len(url_addr))\n",
        "print(rank)\n",
        "print(main_menu)\n",
        "print(cafe_name)\n",
        "print(url_addr)\n",
        "\n",
        "\n",
        "#하위 페이지 데이터 추출\n",
        "price=[]\n",
        "addr=[]\n",
        "webs=[]\n",
        "\n",
        "for n in range(len(url_addr)):\n",
        "  html=urlopen(url_addr[n])\n",
        "  soup_tmp=BeautifulSoup(html, 'html.parser')\n",
        "\n",
        "  text_tmp=soup_tmp.find('p', 'addy').get_text().split()\n",
        "  addr_tmp=' '.join(text_tmp[1:-2])\n",
        "  price.append(text_tmp[0][:-1])\n",
        "  addr.append(text_tmp[:-1])\n",
        "  webs.append(text_tmp[-1])\n",
        "\n",
        "  #print(n+1, '/', len(url_addr))"
      ],
      "execution_count": null,
      "outputs": [
        {
          "output_type": "stream",
          "text": [
            "50 50 50 50\n",
            "['1', '2', '3', '4', '5', '6', '7', '8', '9', '10', '11', '12', '13', '14', '15', '16', '17', '18', '19', '20', '21', '22', '23', '24', '25', '26', '27', '28', '29', '30', '31', '32', '33', '34', '35', '36', '37', '38', '39', '40', '41', '42', '43', '44', '45', '46', '47', '48', '49', '50']\n",
            "['BLT', 'Fried Bologna', 'Woodland Mushroom', 'Roast Beef', 'PB&L', 'Belgian Chicken Curry Salad', 'Lobster Roll', 'Smoked Salmon Salad', 'Atomica Cemitas', 'Grilled Laughing Bird Shrimp and Fried Po’ Boy', 'Ham and Raclette Panino', 'Breaded Steak', 'The Hawkeye', 'Chicken Dip', 'Wild Boar Sloppy Joe', 'Meatball Sub', 'Corned Beef', 'Turkey Club', 'Falafel', 'Crab Cake', 'Chicken Schnitzel', 'Shawarma', 'Toasted Pimiento Cheese', 'Vegetarian Panino', 'Cali Chèvre', 'Pastrami', 'The Fredo', 'Smoked Ham', 'Jibarito', 'Shaved Prime Rib', 'Serrano Ham and Manchego Cheese', 'Tuna Salad', 'Paramount Reuben', 'The Istanbul', 'B.A.D.', 'Duck Confit and Mozzarella', 'Croque Monsieur', 'Green Garbanzo', 'The Hen House', 'Tuscan Chicken', 'The Marty ', 'Whitefish', 'Oat Bread, Pecan Butter, and Fruit Jam', 'Cauliflower Melt', 'Cubana', 'Kufta', 'Debbie’s Egg Salad', 'Beef Curry', 'Le Végétarien', 'The Gatsby']\n",
            "['Old Oak Tap', 'Au Cheval', 'Xoco', 'Al’s Deli', 'Publican Quality Meats', 'Hendrickx Belgian Bread Crafter', 'Acadia', 'Birchwood Kitchen', 'Cemitas Puebla', 'Nana', 'Lula Cafe', 'Ricobene’s', 'Frog n Snail', 'Crosby’s Kitchen', 'Longman & Eagle', 'Bari', 'Manny’s', 'Eggy’s', 'Old Jerusalem', 'Mindy’s HotChocolate', 'Olga’s Delicatessen', 'Dawali Mediterranean Kitchen', 'Big Jones', 'La Pane', 'Pastoral', 'Max’s Deli', 'Lucky’s Sandwich Co.', 'City Provisions', 'Papa’s Cache Sabroso', 'Bavette’s Bar & Boeuf', 'Hannah’s Bretzel', 'La Fournette', 'Paramount Room', 'Melt Sandwich Shoppe', 'Floriole Cafe & Bakery', 'First Slice Pie Café', 'Troquet', 'Grahamwich', 'Saigon Sisters', 'Rosalia’s Deli', 'Z&H MarketCafe', 'Market House on the Square', 'Elaine’s Coffee Call', 'Marion Street Cheese Market', 'Cafecito', 'Chickpea', 'The Goddess and Grocer', 'Zenwich', 'Toni Patisserie', 'Phoebe’s Bakery']\n",
            "['http://www.chicagomag.com/Chicago-Magazine/November-2012/Best-Sandwiches-in-Chicago-Old-Oak-Tap-BLT/', 'http://www.chicagomag.com/Chicago-Magazine/November-2012/Best-Sandwiches-in-Chicago-Au-Cheval-Fried-Bologna/', 'http://www.chicagomag.com/Chicago-Magazine/November-2012/Best-Sandwiches-in-Chicago-Xoco-Woodland-Mushroom/', 'http://www.chicagomag.com/Chicago-Magazine/November-2012/Best-Sandwiches-in-Chicago-Als-Deli-Roast-Beef/', 'http://www.chicagomag.com/Chicago-Magazine/November-2012/Best-Sandwiches-in-Chicago-Publican-Quality-Meats-PB-L/', 'http://www.chicagomag.com/Chicago-Magazine/November-2012/Best-Sandwiches-in-Chicago-Hendrickx-Belgian-Bread-Crafter-Belgian-Chicken-Curry-Salad/', 'http://www.chicagomag.com/Chicago-Magazine/November-2012/Best-Sandwiches-in-Chicago-Acadia-Lobster-Roll/', 'http://www.chicagomag.com/Chicago-Magazine/November-2012/Best-Sandwiches-in-Chicago-Birchwood-Kitchen-Smoked-Salmon-Salad/', 'http://www.chicagomag.com/Chicago-Magazine/November-2012/Best-Sandwiches-in-Chicago-Cemitas-Puebla-Atomica-Cemitas/', 'http://www.chicagomag.com/Chicago-Magazine/November-2012/Best-Sandwiches-in-Chicago-Nana-Grilled-Laughing-Bird-Shrimp-and-Fried-Oyster-Po-Boy/', 'http://www.chicagomag.com/Chicago-Magazine/November-2012/Best-Sandwiches-in-Chicago-Lula-Cafe-Ham-and-Raclette-Panino/', 'http://www.chicagomag.com/Chicago-Magazine/November-2012/Best-Sandwiches-in-Chicago-Ricobenes-Breaded-Steak/', 'http://www.chicagomag.com/Chicago-Magazine/November-2012/Best-Sandwiches-in-Chicago-Frog-n-Snail-The-Hawkeye/', 'http://www.chicagomag.com/Chicago-Magazine/November-2012/Best-Sandwiches-in-Chicago-Crosbys-Kitchen-Chicken-Dip/', 'http://www.chicagomag.com/Chicago-Magazine/November-2012/Best-Sandwiches-in-Chicago-Longman-and-Eagle-Wild-Boar-Sloppy-Joe/', 'http://www.chicagomag.com/Chicago-Magazine/November-2012/Best-Sandwiches-in-Chicago-Bari-Meatball-Sub/', 'http://www.chicagomag.com/Chicago-Magazine/November-2012/Best-Sandwiches-in-Chicago-Mannys-Corned-Beef/', 'http://www.chicagomag.com/Chicago-Magazine/November-2012/Best-Sandwiches-in-Chicago-Eggys-Turkey-Club/', 'http://www.chicagomag.com/Chicago-Magazine/November-2012/Best-Sandwiches-in-Chicago-Old-Jerusalem-Falafel/', 'http://www.chicagomag.com/Chicago-Magazine/November-2012/Best-Sandwiches-in-Chicago-Mindys-HotChocolate-Crab-Cake/', 'http://www.chicagomag.com/Chicago-Magazine/November-2012/Best-Sandwiches-in-Chicago-Olgas-Delicatessen-Chicken-Schnitzel/', 'http://www.chicagomag.com/Chicago-Magazine/November-2012/Best-Sandwiches-in-Chicago-Dawali-Mediterranean-Kitchen-Shawarma/', 'http://www.chicagomag.com/Chicago-Magazine/November-2012/Best-Sandwiches-in-Chicago-Big-Jones-Toasted-Pimiento-Cheese/', 'http://www.chicagomag.com/Chicago-Magazine/November-2012/Best-Sandwiches-in-Chicago-La-Pane-Vegetarian-Panino/', 'http://www.chicagomag.com/Chicago-Magazine/November-2012/Best-Sandwiches-in-Chicago-Pastoral-Cali-Chevre/', 'http://www.chicagomag.com/Chicago-Magazine/November-2012/Best-Sandwiches-in-Chicago-Maxs-Deli-Pastrami/', 'http://www.chicagomag.com/Chicago-Magazine/November-2012/Best-Sandwiches-in-Chicago-Luckys-Sandwich-Co-The-Fredo/', 'http://www.chicagomag.com/Chicago-Magazine/November-2012/Best-Sandwiches-in-Chicago-City-Provisions-Smoked-Ham/', 'http://www.chicagomag.com/Chicago-Magazine/November-2012/Best-Sandwiches-in-Chicago-Papas-Cache-Sabroso-Jibarito/', 'http://www.chicagomag.com/Chicago-Magazine/November-2012/Best-Sandwiches-in-Chicago-Bavettes-Bar-and-Boeuf-Shaved-Prime-Rib/', 'http://www.chicagomag.com/Chicago-Magazine/November-2012/Best-Sandwiches-in-Chicago-Hannahs-Bretzel-Serrano-Ham-and-Manchego-Cheese/', 'http://www.chicagomag.com/Chicago-Magazine/November-2012/Best-Sandwiches-in-Chicago-La-Fournette-Tuna-Salad/', 'http://www.chicagomag.com/Chicago-Magazine/November-2012/Best-Sandwiches-in-Chicago-Paramount-Room-Paramount-Reuben/', 'http://www.chicagomag.com/Chicago-Magazine/November-2012/Best-Sandwiches-in-Chicago-Melt-Sandwich-Shoppe-The-Istanbul/', 'http://www.chicagomag.com/Chicago-Magazine/November-2012/Best-Sandwiches-in-Chicago-Floriole-Cafe-and-Bakery-BAD/', 'http://www.chicagomag.com/Chicago-Magazine/November-2012/Best-Sandwiches-in-Chicago-First-Slice-Pie-Cafe-Duck-Confit-and-Mozzarella/', 'http://www.chicagomag.com/Chicago-Magazine/November-2012/Best-Sandwiches-in-Chicago-Troquet-Croque-Monsieur/', 'http://www.chicagomag.com/Chicago-Magazine/November-2012/Best-Sandwiches-in-Chicago-Grahamwich-Green-Garbanzo/', 'http://www.chicagomag.com/Chicago-Magazine/November-2012/Best-Sandwiches-in-Chicago-Saigon-Sisters-The-Hen-House/', 'http://www.chicagomag.com/Chicago-Magazine/November-2012/Best-Sandwiches-in-Chicago-Rosalias-Deli-Tuscan-Chicken/', 'http://www.chicagomag.com/Chicago-Magazine/November-2012/Best-Sandwiches-in-Chicago-Z-and-H-MarketCafe-The-Marty/', 'http://www.chicagomag.com/Chicago-Magazine/November-2012/Best-Sandwiches-in-Chicago-Market-House-on-the-Square-Whitefish/', 'http://www.chicagomag.com/Chicago-Magazine/November-2012/Best-Sandwiches-in-Chicago-Elaines-Coffee-Call-Oat-Bread-Pecan-Butter-and-Fruit-Jam/', 'http://www.chicagomag.com/Chicago-Magazine/November-2012/Best-Sandwiches-in-Chicago-Marion-Street-Cheese-Market-Cauliflower-Melt/', 'http://www.chicagomag.com/Chicago-Magazine/November-2012/Best-Sandwiches-in-Chicago-Cafecito-Cubano/', 'http://www.chicagomag.com/Chicago-Magazine/November-2012/Best-Sandwiches-in-Chicago-Chickpea-Kufta/', 'http://www.chicagomag.com/Chicago-Magazine/November-2012/Best-Sandwiches-in-Chicago-The-Goddess-and-Grocer-Debbies-Egg-Salad/', 'http://www.chicagomag.com/Chicago-Magazine/November-2012/Best-Sandwiches-in-Chicago-Zenwich-Beef-Curry/', 'http://www.chicagomag.com/Chicago-Magazine/November-2012/Best-Sandwiches-in-Chicago-Toni-Patisserie-Le-Vegetarien/', 'http://www.chicagomag.com/Chicago-Magazine/November-2012/Best-Sandwiches-in-Chicago-Phoebes-Bakery-The-Gatsby/']\n"
          ],
          "name": "stdout"
        }
      ]
    },
    {
      "cell_type": "markdown",
      "metadata": {
        "id": "J-wO439uup-M"
      },
      "source": [
        "## 실습강의"
      ]
    },
    {
      "cell_type": "code",
      "metadata": {
        "id": "-CGhKkL_yBye",
        "colab": {
          "base_uri": "https://localhost:8080/"
        },
        "outputId": "f202984a-1e9c-44b0-c86b-5142b6db91a0"
      },
      "source": [
        "# 네이버 영화 평점 추출\n",
        "\n",
        "\n",
        "from bs4 import BeautifulSoup\n",
        "from urllib.request import urlopen\n",
        "\n",
        "url_date=input('날짜입력(yyyymmdd) : ')\n",
        "\n",
        "url_base = 'http://movie.naver.com'\n",
        "url_sub='/movie/sdb/rank/rmovie.nhn?sel=cur&date='+url_date\n",
        "url= url_base + url_sub\n",
        "page =urlopen(url)\n",
        "soup= BeautifulSoup(page, 'html.parser')\n",
        "#print(soup.prettify())\n",
        "\n",
        "\n",
        "\n",
        "list_movie_name=soup.find_all('div', 'tit5')\n",
        "list_movie_point= soup.find_all('td', 'point')\n",
        "\n",
        "for i in range(len(list_movie_name)) :\n",
        "  print(list_movie_name[i].a.string, list_movie_point[i].string)"
      ],
      "execution_count": null,
      "outputs": [
        {
          "output_type": "stream",
          "text": [
            "날짜입력(yyyymmdd) : 20201116\n",
            "극장판 바이올렛 에버가든 9.65\n",
            "부활: 그 증거 9.52\n",
            "포드 V 페라리 9.49\n",
            "소년시절의 너 9.39\n",
            "죽은 시인의 사회 9.37\n",
            "미안해요, 리키 9.34\n",
            "시네마 천국 9.32\n",
            "패왕별희 디 오리지널 9.32\n",
            "폴란드로 간 아이들 9.31\n",
            "공동경비구역 JSA 9.27\n",
            "피아니스트의 전설 9.25\n",
            "톰보이 9.20\n",
            "페이트 스테이 나이트 헤븐즈필 III.스프링 송 9.17\n",
            "조조 래빗 9.16\n",
            "나이브스 아웃 9.11\n",
            "타오르는 여인의 초상 9.06\n",
            "노트북 9.05\n",
            "올드보이 9.05\n",
            "박하사탕 9.03\n",
            "남매의 여름밤 8.99\n",
            "윤희에게 8.98\n",
            "담보 8.89\n",
            "미스터트롯: 더 무비 8.85\n",
            "작은 아씨들 8.84\n",
            "미드웨이 8.80\n",
            "위플래쉬 8.79\n",
            "너의 이름은. 8.78\n",
            "가장 따뜻한 색, 블루 8.77\n",
            "위로공단 8.76\n",
            "그을린 사랑 8.68\n",
            "베스트 오퍼 8.65\n",
            "69세 8.63\n",
            "라라랜드 8.61\n",
            "킹덤 오브 헤븐: 디렉터스 컷 8.58\n",
            "족구왕 8.54\n",
            "렛 미 인 8.52\n",
            "삼진그룹 영어토익반 8.46\n",
            "로렌스 애니웨이  8.44\n",
            "카페 벨에포크 8.42\n",
            "셔터 아일랜드 8.37\n",
            "레볼루셔너리 로드 8.37\n",
            "복수는 나의 것 8.37\n",
            "미성년 8.35\n",
            "메기 8.29\n",
            "테넷 8.27\n",
            "야구소녀 8.19\n",
            "내가 죽던 날 8.13\n",
            "프란시스 하 8.13\n",
            "검객 8.11\n",
            "드라이브 8.07\n"
          ],
          "name": "stdout"
        }
      ]
    },
    {
      "cell_type": "code",
      "metadata": {
        "id": "PrdWoZL7ZXHn",
        "colab": {
          "base_uri": "https://localhost:8080/"
        },
        "outputId": "d0889bf0-64bc-4977-aad1-d4f9d885fa58"
      },
      "source": [
        "# 시카고 샌드위치 맛집 데이터 얻기\n",
        "\n",
        "from bs4 import BeautifulSoup\n",
        "from urllib.request import urlopen\n",
        "import re\n",
        "from urllib.parse import urljoin\n",
        "\n",
        "\n",
        "url_base = 'http://www.chicagomag.com/'\n",
        "url_sub='/Chicago-Magazine/November-2012/Best-Sandwiches-Chicago/'\n",
        "url= url_base + url_sub\n",
        "page =urlopen(url)\n",
        "soup= BeautifulSoup(page, 'html.parser')\n",
        "#print(soup.prettify())\n",
        "\n",
        "rank= [ ]\n",
        "main_menu=[ ]\n",
        "cafe_name=[ ]\n",
        "url_addr=[ ]\n",
        "list_soup = soup.find_all('div','sammy')\n",
        "\n",
        "for item in list_soup:\n",
        "  rank.append(item.find(class_='sammyRank').get_text())\n",
        "  tmp_string =item.find(class_='sammyListing').get_text()\n",
        "  tmp_string =re.split(('\\n|\\r\\n'), tmp_string)\n",
        "\n",
        "  main_menu.append(tmp_string[0])\n",
        "  cafe_name.append(tmp_string[1])\n",
        "\n",
        "  url_addr.append(urljoin(url_base, item.find('a')['href']))\n",
        "\n",
        "print(len(rank), len(main_menu), len(cafe_name), len(url_addr))\n",
        "print(rank)\n",
        "print(main_menu)\n",
        "print(cafe_name)\n",
        "print(url_addr)\n",
        "\n",
        "\n",
        "#하위 페이지 데이터 추출\n",
        "price=[]\n",
        "addr=[]\n",
        "webs=[]\n",
        "\n",
        "for n in range(len(url_addr)):\n",
        "  html=urlopen(url_addr[n])\n",
        "  soup_tmp=BeautifulSoup(html, 'html.parser')\n",
        "\n",
        "  text_tmp=soup_tmp.find('p', 'addy').get_text().split()\n",
        "  addr_tmp=' '.join(text_tmp[1:-2])\n",
        "  price.append(text_tmp[0][:-1])\n",
        "  addr.append(text_tmp[:-1])\n",
        "  webs.append(text_tmp[-1])\n",
        "\n",
        "  #print(n+1, '/', len(url_addr)) \n",
        "\n",
        "\n",
        "# Folium 모듈\n",
        "\n",
        "name = ['Old Oak Tap', 'Au Cheval', 'Xoco', 'Al’s Deli', 'Publican Quality Meats', 'Hendrickx Belgian Bread Crafter']\n",
        "lat= [41.895828, 41.884890, 41.890754, 41.886807, 41.900474]\n",
        "lng= [-87.679994, -87.647720, -87.630783, -87.648398, -87.625110]\n",
        "\n",
        "import folium\n",
        "import numpy as np\n",
        "mapping = folium.Map(location=[np.mean(np.array(lat)), np.mean(np.array(lng))], zoom_start=12)\n",
        "for n in range(len(lat)):\n",
        "  folium.Marker([lat[n], lng[n]], popup=name[n]).add_to(mapping)\n",
        "mapping.save('best_sandwiches.html')"
      ],
      "execution_count": null,
      "outputs": [
        {
          "output_type": "stream",
          "text": [
            "50 50 50 50\n",
            "['1', '2', '3', '4', '5', '6', '7', '8', '9', '10', '11', '12', '13', '14', '15', '16', '17', '18', '19', '20', '21', '22', '23', '24', '25', '26', '27', '28', '29', '30', '31', '32', '33', '34', '35', '36', '37', '38', '39', '40', '41', '42', '43', '44', '45', '46', '47', '48', '49', '50']\n",
            "['BLT', 'Fried Bologna', 'Woodland Mushroom', 'Roast Beef', 'PB&L', 'Belgian Chicken Curry Salad', 'Lobster Roll', 'Smoked Salmon Salad', 'Atomica Cemitas', 'Grilled Laughing Bird Shrimp and Fried Po’ Boy', 'Ham and Raclette Panino', 'Breaded Steak', 'The Hawkeye', 'Chicken Dip', 'Wild Boar Sloppy Joe', 'Meatball Sub', 'Corned Beef', 'Turkey Club', 'Falafel', 'Crab Cake', 'Chicken Schnitzel', 'Shawarma', 'Toasted Pimiento Cheese', 'Vegetarian Panino', 'Cali Chèvre', 'Pastrami', 'The Fredo', 'Smoked Ham', 'Jibarito', 'Shaved Prime Rib', 'Serrano Ham and Manchego Cheese', 'Tuna Salad', 'Paramount Reuben', 'The Istanbul', 'B.A.D.', 'Duck Confit and Mozzarella', 'Croque Monsieur', 'Green Garbanzo', 'The Hen House', 'Tuscan Chicken', 'The Marty ', 'Whitefish', 'Oat Bread, Pecan Butter, and Fruit Jam', 'Cauliflower Melt', 'Cubana', 'Kufta', 'Debbie’s Egg Salad', 'Beef Curry', 'Le Végétarien', 'The Gatsby']\n",
            "['Old Oak Tap', 'Au Cheval', 'Xoco', 'Al’s Deli', 'Publican Quality Meats', 'Hendrickx Belgian Bread Crafter', 'Acadia', 'Birchwood Kitchen', 'Cemitas Puebla', 'Nana', 'Lula Cafe', 'Ricobene’s', 'Frog n Snail', 'Crosby’s Kitchen', 'Longman & Eagle', 'Bari', 'Manny’s', 'Eggy’s', 'Old Jerusalem', 'Mindy’s HotChocolate', 'Olga’s Delicatessen', 'Dawali Mediterranean Kitchen', 'Big Jones', 'La Pane', 'Pastoral', 'Max’s Deli', 'Lucky’s Sandwich Co.', 'City Provisions', 'Papa’s Cache Sabroso', 'Bavette’s Bar & Boeuf', 'Hannah’s Bretzel', 'La Fournette', 'Paramount Room', 'Melt Sandwich Shoppe', 'Floriole Cafe & Bakery', 'First Slice Pie Café', 'Troquet', 'Grahamwich', 'Saigon Sisters', 'Rosalia’s Deli', 'Z&H MarketCafe', 'Market House on the Square', 'Elaine’s Coffee Call', 'Marion Street Cheese Market', 'Cafecito', 'Chickpea', 'The Goddess and Grocer', 'Zenwich', 'Toni Patisserie', 'Phoebe’s Bakery']\n",
            "['http://www.chicagomag.com/Chicago-Magazine/November-2012/Best-Sandwiches-in-Chicago-Old-Oak-Tap-BLT/', 'http://www.chicagomag.com/Chicago-Magazine/November-2012/Best-Sandwiches-in-Chicago-Au-Cheval-Fried-Bologna/', 'http://www.chicagomag.com/Chicago-Magazine/November-2012/Best-Sandwiches-in-Chicago-Xoco-Woodland-Mushroom/', 'http://www.chicagomag.com/Chicago-Magazine/November-2012/Best-Sandwiches-in-Chicago-Als-Deli-Roast-Beef/', 'http://www.chicagomag.com/Chicago-Magazine/November-2012/Best-Sandwiches-in-Chicago-Publican-Quality-Meats-PB-L/', 'http://www.chicagomag.com/Chicago-Magazine/November-2012/Best-Sandwiches-in-Chicago-Hendrickx-Belgian-Bread-Crafter-Belgian-Chicken-Curry-Salad/', 'http://www.chicagomag.com/Chicago-Magazine/November-2012/Best-Sandwiches-in-Chicago-Acadia-Lobster-Roll/', 'http://www.chicagomag.com/Chicago-Magazine/November-2012/Best-Sandwiches-in-Chicago-Birchwood-Kitchen-Smoked-Salmon-Salad/', 'http://www.chicagomag.com/Chicago-Magazine/November-2012/Best-Sandwiches-in-Chicago-Cemitas-Puebla-Atomica-Cemitas/', 'http://www.chicagomag.com/Chicago-Magazine/November-2012/Best-Sandwiches-in-Chicago-Nana-Grilled-Laughing-Bird-Shrimp-and-Fried-Oyster-Po-Boy/', 'http://www.chicagomag.com/Chicago-Magazine/November-2012/Best-Sandwiches-in-Chicago-Lula-Cafe-Ham-and-Raclette-Panino/', 'http://www.chicagomag.com/Chicago-Magazine/November-2012/Best-Sandwiches-in-Chicago-Ricobenes-Breaded-Steak/', 'http://www.chicagomag.com/Chicago-Magazine/November-2012/Best-Sandwiches-in-Chicago-Frog-n-Snail-The-Hawkeye/', 'http://www.chicagomag.com/Chicago-Magazine/November-2012/Best-Sandwiches-in-Chicago-Crosbys-Kitchen-Chicken-Dip/', 'http://www.chicagomag.com/Chicago-Magazine/November-2012/Best-Sandwiches-in-Chicago-Longman-and-Eagle-Wild-Boar-Sloppy-Joe/', 'http://www.chicagomag.com/Chicago-Magazine/November-2012/Best-Sandwiches-in-Chicago-Bari-Meatball-Sub/', 'http://www.chicagomag.com/Chicago-Magazine/November-2012/Best-Sandwiches-in-Chicago-Mannys-Corned-Beef/', 'http://www.chicagomag.com/Chicago-Magazine/November-2012/Best-Sandwiches-in-Chicago-Eggys-Turkey-Club/', 'http://www.chicagomag.com/Chicago-Magazine/November-2012/Best-Sandwiches-in-Chicago-Old-Jerusalem-Falafel/', 'http://www.chicagomag.com/Chicago-Magazine/November-2012/Best-Sandwiches-in-Chicago-Mindys-HotChocolate-Crab-Cake/', 'http://www.chicagomag.com/Chicago-Magazine/November-2012/Best-Sandwiches-in-Chicago-Olgas-Delicatessen-Chicken-Schnitzel/', 'http://www.chicagomag.com/Chicago-Magazine/November-2012/Best-Sandwiches-in-Chicago-Dawali-Mediterranean-Kitchen-Shawarma/', 'http://www.chicagomag.com/Chicago-Magazine/November-2012/Best-Sandwiches-in-Chicago-Big-Jones-Toasted-Pimiento-Cheese/', 'http://www.chicagomag.com/Chicago-Magazine/November-2012/Best-Sandwiches-in-Chicago-La-Pane-Vegetarian-Panino/', 'http://www.chicagomag.com/Chicago-Magazine/November-2012/Best-Sandwiches-in-Chicago-Pastoral-Cali-Chevre/', 'http://www.chicagomag.com/Chicago-Magazine/November-2012/Best-Sandwiches-in-Chicago-Maxs-Deli-Pastrami/', 'http://www.chicagomag.com/Chicago-Magazine/November-2012/Best-Sandwiches-in-Chicago-Luckys-Sandwich-Co-The-Fredo/', 'http://www.chicagomag.com/Chicago-Magazine/November-2012/Best-Sandwiches-in-Chicago-City-Provisions-Smoked-Ham/', 'http://www.chicagomag.com/Chicago-Magazine/November-2012/Best-Sandwiches-in-Chicago-Papas-Cache-Sabroso-Jibarito/', 'http://www.chicagomag.com/Chicago-Magazine/November-2012/Best-Sandwiches-in-Chicago-Bavettes-Bar-and-Boeuf-Shaved-Prime-Rib/', 'http://www.chicagomag.com/Chicago-Magazine/November-2012/Best-Sandwiches-in-Chicago-Hannahs-Bretzel-Serrano-Ham-and-Manchego-Cheese/', 'http://www.chicagomag.com/Chicago-Magazine/November-2012/Best-Sandwiches-in-Chicago-La-Fournette-Tuna-Salad/', 'http://www.chicagomag.com/Chicago-Magazine/November-2012/Best-Sandwiches-in-Chicago-Paramount-Room-Paramount-Reuben/', 'http://www.chicagomag.com/Chicago-Magazine/November-2012/Best-Sandwiches-in-Chicago-Melt-Sandwich-Shoppe-The-Istanbul/', 'http://www.chicagomag.com/Chicago-Magazine/November-2012/Best-Sandwiches-in-Chicago-Floriole-Cafe-and-Bakery-BAD/', 'http://www.chicagomag.com/Chicago-Magazine/November-2012/Best-Sandwiches-in-Chicago-First-Slice-Pie-Cafe-Duck-Confit-and-Mozzarella/', 'http://www.chicagomag.com/Chicago-Magazine/November-2012/Best-Sandwiches-in-Chicago-Troquet-Croque-Monsieur/', 'http://www.chicagomag.com/Chicago-Magazine/November-2012/Best-Sandwiches-in-Chicago-Grahamwich-Green-Garbanzo/', 'http://www.chicagomag.com/Chicago-Magazine/November-2012/Best-Sandwiches-in-Chicago-Saigon-Sisters-The-Hen-House/', 'http://www.chicagomag.com/Chicago-Magazine/November-2012/Best-Sandwiches-in-Chicago-Rosalias-Deli-Tuscan-Chicken/', 'http://www.chicagomag.com/Chicago-Magazine/November-2012/Best-Sandwiches-in-Chicago-Z-and-H-MarketCafe-The-Marty/', 'http://www.chicagomag.com/Chicago-Magazine/November-2012/Best-Sandwiches-in-Chicago-Market-House-on-the-Square-Whitefish/', 'http://www.chicagomag.com/Chicago-Magazine/November-2012/Best-Sandwiches-in-Chicago-Elaines-Coffee-Call-Oat-Bread-Pecan-Butter-and-Fruit-Jam/', 'http://www.chicagomag.com/Chicago-Magazine/November-2012/Best-Sandwiches-in-Chicago-Marion-Street-Cheese-Market-Cauliflower-Melt/', 'http://www.chicagomag.com/Chicago-Magazine/November-2012/Best-Sandwiches-in-Chicago-Cafecito-Cubano/', 'http://www.chicagomag.com/Chicago-Magazine/November-2012/Best-Sandwiches-in-Chicago-Chickpea-Kufta/', 'http://www.chicagomag.com/Chicago-Magazine/November-2012/Best-Sandwiches-in-Chicago-The-Goddess-and-Grocer-Debbies-Egg-Salad/', 'http://www.chicagomag.com/Chicago-Magazine/November-2012/Best-Sandwiches-in-Chicago-Zenwich-Beef-Curry/', 'http://www.chicagomag.com/Chicago-Magazine/November-2012/Best-Sandwiches-in-Chicago-Toni-Patisserie-Le-Vegetarien/', 'http://www.chicagomag.com/Chicago-Magazine/November-2012/Best-Sandwiches-in-Chicago-Phoebes-Bakery-The-Gatsby/']\n"
          ],
          "name": "stdout"
        }
      ]
    },
    {
      "cell_type": "code",
      "metadata": {
        "id": "9lBi-qxRxbHz"
      },
      "source": [
        "from google.colab import drive\n",
        "drive.mount('/content/drive')"
      ],
      "execution_count": null,
      "outputs": []
    }
  ]
}