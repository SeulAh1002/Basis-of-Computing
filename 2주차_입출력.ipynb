{
  "nbformat": 4,
  "nbformat_minor": 0,
  "metadata": {
    "colab": {
      "name": "2주차_입출력.ipynb",
      "provenance": [],
      "collapsed_sections": [],
      "authorship_tag": "ABX9TyOsuz4udmpjW846yk+anH/o",
      "include_colab_link": true
    },
    "kernelspec": {
      "name": "python3",
      "display_name": "Python 3"
    }
  },
  "cells": [
    {
      "cell_type": "markdown",
      "metadata": {
        "id": "view-in-github",
        "colab_type": "text"
      },
      "source": [
        "<a href=\"https://colab.research.google.com/github/SeulAh1002/Basis-of-Computing/blob/main/2%EC%A3%BC%EC%B0%A8_%EC%9E%85%EC%B6%9C%EB%A0%A5.ipynb\" target=\"_parent\"><img src=\"https://colab.research.google.com/assets/colab-badge.svg\" alt=\"Open In Colab\"/></a>"
      ]
    },
    {
      "cell_type": "markdown",
      "metadata": {
        "id": "KDzrGDRxASgo"
      },
      "source": [
        "# 2주차"
      ]
    },
    {
      "cell_type": "markdown",
      "metadata": {
        "id": "DddHRKpJAyd6"
      },
      "source": [
        "## 동영상 강의"
      ]
    },
    {
      "cell_type": "code",
      "metadata": {
        "id": "rAcJpFZICO3P",
        "colab": {
          "base_uri": "https://localhost:8080/",
          "height": 72
        },
        "outputId": "5a4d062e-603b-4ea0-9238-ec56aaf2463b"
      },
      "source": [
        "#This program says hello and asks for my name\n",
        "#print('Hello world!')\n",
        "print('Input your name.')\n",
        "myName=input()\n",
        "print('Welcome,' +myName + '.')"
      ],
      "execution_count": null,
      "outputs": [
        {
          "output_type": "stream",
          "text": [
            "Input your name.\n",
            "이슬아\n",
            "Welcome,이슬아.\n"
          ],
          "name": "stdout"
        }
      ]
    },
    {
      "cell_type": "code",
      "metadata": {
        "id": "v5iaCrUMD0lX",
        "colab": {
          "base_uri": "https://localhost:8080/",
          "height": 35
        },
        "outputId": "9dcfc7da-3b06-412c-b6b5-899b4f38f496"
      },
      "source": [
        "'Hello world!'\n",
        "'How are you?'\n",
        "'Nice to meet you'"
      ],
      "execution_count": null,
      "outputs": [
        {
          "output_type": "execute_result",
          "data": {
            "application/vnd.google.colaboratory.intrinsic+json": {
              "type": "string"
            },
            "text/plain": [
              "'Nice to meet you'"
            ]
          },
          "metadata": {
            "tags": []
          },
          "execution_count": 3
        }
      ]
    },
    {
      "cell_type": "code",
      "metadata": {
        "id": "io-M3afBD8dD",
        "colab": {
          "base_uri": "https://localhost:8080/",
          "height": 35
        },
        "outputId": "1211f683-f7be-43e2-acd2-43326751705d"
      },
      "source": [
        "'''Hello world!\n",
        "How are you?\n",
        "Nice to meet you'''"
      ],
      "execution_count": null,
      "outputs": [
        {
          "output_type": "execute_result",
          "data": {
            "application/vnd.google.colaboratory.intrinsic+json": {
              "type": "string"
            },
            "text/plain": [
              "'Hello world!\\nHow are you?\\nNice to meet you'"
            ]
          },
          "metadata": {
            "tags": []
          },
          "execution_count": 6
        }
      ]
    },
    {
      "cell_type": "code",
      "metadata": {
        "id": "ep3Ve8UFENUM",
        "colab": {
          "base_uri": "https://localhost:8080/",
          "height": 72
        },
        "outputId": "641f3f44-cbc4-4aa1-e107-d262da944d3c"
      },
      "source": [
        "print('''Hello world!\n",
        "How are you?\n",
        "Nice to meet you''')"
      ],
      "execution_count": null,
      "outputs": [
        {
          "output_type": "stream",
          "text": [
            "Hello world!\n",
            "How are you?\n",
            "Nice to meet you\n"
          ],
          "name": "stdout"
        }
      ]
    },
    {
      "cell_type": "code",
      "metadata": {
        "id": "E-BNaCKKEfSd",
        "colab": {
          "base_uri": "https://localhost:8080/",
          "height": 53
        },
        "outputId": "0fa53122-9f27-4f57-e4c3-a408ba5bdc7f"
      },
      "source": [
        "age=25\n",
        "print('Age:' ,age)\n",
        "name= \"Rose\"\n",
        "print('Nice to meet you,' + name)"
      ],
      "execution_count": null,
      "outputs": [
        {
          "output_type": "stream",
          "text": [
            "Age: 25\n",
            "Nice to meet you,Rose\n"
          ],
          "name": "stdout"
        }
      ]
    },
    {
      "cell_type": "code",
      "metadata": {
        "id": "UiB6JWnAFHmo",
        "colab": {
          "base_uri": "https://localhost:8080/",
          "height": 72
        },
        "outputId": "cd73604e-7065-4f20-ab0e-87bbd116698d"
      },
      "source": [
        "age=25\n",
        "print('Age:' ,age)\n",
        "name= \"Rose\"\n",
        "print('Nice to meet you,' + name)\n",
        "print('After ten years, you are', age+10, 'years old.')"
      ],
      "execution_count": null,
      "outputs": [
        {
          "output_type": "stream",
          "text": [
            "Age: 25\n",
            "Nice to meet you,Rose\n",
            "After ten years, you are 35 years old.\n"
          ],
          "name": "stdout"
        }
      ]
    },
    {
      "cell_type": "code",
      "metadata": {
        "id": "ZZN1EkeEGuXI",
        "colab": {
          "base_uri": "https://localhost:8080/",
          "height": 53
        },
        "outputId": "aad9903d-e1c8-4ef0-c681-fcf9a87b83b2"
      },
      "source": [
        "print('How old are you?')\n",
        "age=input()"
      ],
      "execution_count": null,
      "outputs": [
        {
          "output_type": "stream",
          "text": [
            "How old are you?\n",
            "23\n"
          ],
          "name": "stdout"
        }
      ]
    },
    {
      "cell_type": "code",
      "metadata": {
        "id": "JbCPovWHG0ov",
        "colab": {
          "base_uri": "https://localhost:8080/",
          "height": 35
        },
        "outputId": "1f512b80-18f7-4fe7-a956-1d7aa1d84552"
      },
      "source": [
        "age=input('How old are you?')"
      ],
      "execution_count": null,
      "outputs": [
        {
          "output_type": "stream",
          "text": [
            "How old are you?23\n"
          ],
          "name": "stdout"
        }
      ]
    },
    {
      "cell_type": "code",
      "metadata": {
        "id": "oBXSfKfOHKCw",
        "colab": {
          "base_uri": "https://localhost:8080/",
          "height": 35
        },
        "outputId": "e1ee86de-380c-4f9e-aad8-547a5b80d964"
      },
      "source": [
        "name='Alice'\n",
        "age=input(name+':')"
      ],
      "execution_count": null,
      "outputs": [
        {
          "output_type": "stream",
          "text": [
            "Alice:15\n"
          ],
          "name": "stdout"
        }
      ]
    },
    {
      "cell_type": "code",
      "metadata": {
        "id": "xtM4-rm2HjX3"
      },
      "source": [
        ""
      ],
      "execution_count": null,
      "outputs": []
    },
    {
      "cell_type": "markdown",
      "metadata": {
        "id": "QYZNr7rKAkLU"
      },
      "source": [
        "##실습강의\n"
      ]
    },
    {
      "cell_type": "code",
      "metadata": {
        "id": "10LkKym5AUhb",
        "colab": {
          "base_uri": "https://localhost:8080/",
          "height": 35
        },
        "outputId": "a10043f4-b06a-43ed-edd2-939ad38b69cf"
      },
      "source": [
        "#실습 1\n",
        "num=10\n",
        "print('콩 '*num +'나무를 '+ str(num)+ '번 찍었습니다.')"
      ],
      "execution_count": null,
      "outputs": [
        {
          "output_type": "stream",
          "text": [
            "콩 콩 콩 콩 콩 콩 콩 콩 콩 콩 나무를 10번 찍었습니다.\n"
          ],
          "name": "stdout"
        }
      ]
    },
    {
      "cell_type": "code",
      "metadata": {
        "id": "XXRjC8uiDH0y",
        "colab": {
          "base_uri": "https://localhost:8080/",
          "height": 108
        },
        "outputId": "1a2e3b43-f980-46e5-a68d-d76ff16e263e"
      },
      "source": [
        "#실습2\n",
        "print('Tell me your favorite stuff')\n",
        "fruit=input('your favorite fruit is ')\n",
        "flower=input('your favorite flower is ')\n",
        "drink=input('your favorite drink is ')\n",
        "print('you entered: ', fruit, flower, drink)"
      ],
      "execution_count": null,
      "outputs": [
        {
          "output_type": "stream",
          "text": [
            "Tell me your favorite stuff\n",
            "your favorite fruit is apple\n",
            "your favorite flower is rose\n",
            "your favorite drink is coke\n",
            "you entered:  apple rose coke\n"
          ],
          "name": "stdout"
        }
      ]
    },
    {
      "cell_type": "code",
      "metadata": {
        "id": "jjtBHkZrDvI8",
        "colab": {
          "base_uri": "https://localhost:8080/",
          "height": 180
        },
        "outputId": "07b35a49-cbb7-4c81-f851-562e274a1271"
      },
      "source": [
        "#실습3\n",
        "name= input('이름 : ')\n",
        "age= input('나이 : ')\n",
        "univ= input('학교 : ')\n",
        "major=input('학부 : ')\n",
        "print()\n",
        "request= input('수업에 바라는 점 : ')\n",
        "print()\n",
        "print(univ, major, age+'세', name+'님')\n",
        "print(request,'의견 감사합니다.')"
      ],
      "execution_count": null,
      "outputs": [
        {
          "output_type": "stream",
          "text": [
            "이름 : 홍길동\n",
            "나이 : 20\n",
            "학교 : 서울대학교\n",
            "학부 : ***학과\n",
            "\n",
            "수업에 바라는 점 : 일찍 끝내 주세요~\n",
            "\n",
            "서울대학교 ***학과 20세 홍길동님\n",
            "일찍 끝내 주세요~ 의견 감사합니다.\n"
          ],
          "name": "stdout"
        }
      ]
    },
    {
      "cell_type": "code",
      "metadata": {
        "id": "WWQk9JgnJB3H",
        "colab": {
          "base_uri": "https://localhost:8080/",
          "height": 90
        },
        "outputId": "3cc7327a-8c55-4c9d-8110-24c684071461"
      },
      "source": [
        "#실습4-1\n",
        "print('대화를 시작합니다.')\n",
        "print()\n",
        "ans=input()\n",
        "print(ans)"
      ],
      "execution_count": null,
      "outputs": [
        {
          "output_type": "stream",
          "text": [
            "대화를 시작합니다.\n",
            "\n",
            "너 이름이 뭐야?\n",
            "너 이름이 뭐야?\n"
          ],
          "name": "stdout"
        }
      ]
    },
    {
      "cell_type": "code",
      "metadata": {
        "id": "1Aj0bxoBlJRL",
        "colab": {
          "base_uri": "https://localhost:8080/",
          "height": 199
        },
        "outputId": "fc97c550-c1bd-4929-c8a2-65b470960805"
      },
      "source": [
        "#실습 4-2\n",
        "A='조련사: '\n",
        "B='앵무새: '\n",
        "\n",
        "print('대화를 시작합니다.')\n",
        "print()\n",
        "talk=input(A)\n",
        "print(B+talk)\n",
        "\n",
        "print()\n",
        "talk=input(A)\n",
        "print(B+talk)\n",
        "\n",
        "print()\n",
        "talk=input(A)\n",
        "print(B+talk)\n",
        "\n"
      ],
      "execution_count": null,
      "outputs": [
        {
          "output_type": "stream",
          "text": [
            "대화를 시작합니다.\n",
            "\n",
            "조련사: 너 이름이 뭐야?\n",
            "앵무새: 너 이름이 뭐야?\n",
            "\n",
            "조련사: 난 블랙핑크 로제야.\n",
            "앵무새: 난 블랙핑크 로제야.\n",
            "\n",
            "조련사: 난 뉴욕을 매료시킨 완벽한 인형미모야.\n",
            "앵무새: 난 뉴욕을 매료시킨 완벽한 인형미모야.\n"
          ],
          "name": "stdout"
        }
      ]
    },
    {
      "cell_type": "markdown",
      "metadata": {
        "id": "afdP41ELsrlz"
      },
      "source": [
        ""
      ]
    }
  ]
}