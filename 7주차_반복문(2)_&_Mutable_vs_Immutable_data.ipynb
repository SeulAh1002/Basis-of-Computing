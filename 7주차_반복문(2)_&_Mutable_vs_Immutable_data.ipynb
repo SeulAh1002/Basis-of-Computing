{
  "nbformat": 4,
  "nbformat_minor": 0,
  "metadata": {
    "colab": {
      "name": "7주차_반복문(2) & Mutable vs Immutable data.ipynb",
      "provenance": [],
      "collapsed_sections": [],
      "authorship_tag": "ABX9TyMTgdy937PshRhyeQbA0Er4",
      "include_colab_link": true
    },
    "kernelspec": {
      "name": "python3",
      "display_name": "Python 3"
    }
  },
  "cells": [
    {
      "cell_type": "markdown",
      "metadata": {
        "id": "view-in-github",
        "colab_type": "text"
      },
      "source": [
        "<a href=\"https://colab.research.google.com/github/SeulAh1002/Basis-of-Computing/blob/main/7%EC%A3%BC%EC%B0%A8_%EB%B0%98%EB%B3%B5%EB%AC%B8(2)_%26_Mutable_vs_Immutable_data.ipynb\" target=\"_parent\"><img src=\"https://colab.research.google.com/assets/colab-badge.svg\" alt=\"Open In Colab\"/></a>"
      ]
    },
    {
      "cell_type": "markdown",
      "metadata": {
        "id": "hnAZkM90OG0r"
      },
      "source": [
        "# 7주차\n"
      ]
    },
    {
      "cell_type": "markdown",
      "metadata": {
        "id": "TAOfSGraOR3i"
      },
      "source": [
        "## 동영상 강의"
      ]
    },
    {
      "cell_type": "code",
      "metadata": {
        "id": "EWovukkj2D7w",
        "colab": {
          "base_uri": "https://localhost:8080/",
          "height": 1000
        },
        "outputId": "83db159e-2d88-4817-98bf-6368c33a9c24"
      },
      "source": [
        "for num in range(2,10):\n",
        "  for num_2 in range(1,10):\n",
        "    print(num,'*',num_2,'=',num*num_2)"
      ],
      "execution_count": null,
      "outputs": [
        {
          "output_type": "stream",
          "text": [
            "2 * 1 = 2\n",
            "2 * 2 = 4\n",
            "2 * 3 = 6\n",
            "2 * 4 = 8\n",
            "2 * 5 = 10\n",
            "2 * 6 = 12\n",
            "2 * 7 = 14\n",
            "2 * 8 = 16\n",
            "2 * 9 = 18\n",
            "3 * 1 = 3\n",
            "3 * 2 = 6\n",
            "3 * 3 = 9\n",
            "3 * 4 = 12\n",
            "3 * 5 = 15\n",
            "3 * 6 = 18\n",
            "3 * 7 = 21\n",
            "3 * 8 = 24\n",
            "3 * 9 = 27\n",
            "4 * 1 = 4\n",
            "4 * 2 = 8\n",
            "4 * 3 = 12\n",
            "4 * 4 = 16\n",
            "4 * 5 = 20\n",
            "4 * 6 = 24\n",
            "4 * 7 = 28\n",
            "4 * 8 = 32\n",
            "4 * 9 = 36\n",
            "5 * 1 = 5\n",
            "5 * 2 = 10\n",
            "5 * 3 = 15\n",
            "5 * 4 = 20\n",
            "5 * 5 = 25\n",
            "5 * 6 = 30\n",
            "5 * 7 = 35\n",
            "5 * 8 = 40\n",
            "5 * 9 = 45\n",
            "6 * 1 = 6\n",
            "6 * 2 = 12\n",
            "6 * 3 = 18\n",
            "6 * 4 = 24\n",
            "6 * 5 = 30\n",
            "6 * 6 = 36\n",
            "6 * 7 = 42\n",
            "6 * 8 = 48\n",
            "6 * 9 = 54\n",
            "7 * 1 = 7\n",
            "7 * 2 = 14\n",
            "7 * 3 = 21\n",
            "7 * 4 = 28\n",
            "7 * 5 = 35\n",
            "7 * 6 = 42\n",
            "7 * 7 = 49\n",
            "7 * 8 = 56\n",
            "7 * 9 = 63\n",
            "8 * 1 = 8\n",
            "8 * 2 = 16\n",
            "8 * 3 = 24\n",
            "8 * 4 = 32\n",
            "8 * 5 = 40\n",
            "8 * 6 = 48\n",
            "8 * 7 = 56\n",
            "8 * 8 = 64\n",
            "8 * 9 = 72\n",
            "9 * 1 = 9\n",
            "9 * 2 = 18\n",
            "9 * 3 = 27\n",
            "9 * 4 = 36\n",
            "9 * 5 = 45\n",
            "9 * 6 = 54\n",
            "9 * 7 = 63\n",
            "9 * 8 = 72\n",
            "9 * 9 = 81\n"
          ],
          "name": "stdout"
        }
      ]
    },
    {
      "cell_type": "code",
      "metadata": {
        "id": "9TM2hSUk2ImK",
        "colab": {
          "base_uri": "https://localhost:8080/",
          "height": 90
        },
        "outputId": "87a740c4-78f5-4a24-ca59-5a4144de7899"
      },
      "source": [
        "for thing in ['programming', 'pasta','spam','play park']:\n",
        "  print('I really like '+thing+'.')"
      ],
      "execution_count": null,
      "outputs": [
        {
          "output_type": "stream",
          "text": [
            "I really like programming.\n",
            "I really like pasta.\n",
            "I really like spam.\n",
            "I really like play park.\n"
          ],
          "name": "stdout"
        }
      ]
    },
    {
      "cell_type": "code",
      "metadata": {
        "id": "VseTWBa4PQjJ",
        "colab": {
          "base_uri": "https://localhost:8080/",
          "height": 90
        },
        "outputId": "4ff03d54-ee29-4a76-8b23-ee39d2051e69"
      },
      "source": [
        "stuff=['programming', 'pasta','spam','play park']\n",
        "for thing in stuff:\n",
        "  print('I really like '+thing+'.')"
      ],
      "execution_count": null,
      "outputs": [
        {
          "output_type": "stream",
          "text": [
            "I really like programming.\n",
            "I really like pasta.\n",
            "I really like spam.\n",
            "I really like play park.\n"
          ],
          "name": "stdout"
        }
      ]
    },
    {
      "cell_type": "code",
      "metadata": {
        "id": "nI1aueGePXqr",
        "colab": {
          "base_uri": "https://localhost:8080/",
          "height": 35
        },
        "outputId": "26fdb115-b049-40c9-fba9-d2a2e5190d0e"
      },
      "source": [
        "for i in 'Hello world!':\n",
        "  print(i,end='')"
      ],
      "execution_count": null,
      "outputs": [
        {
          "output_type": "stream",
          "text": [
            "Hello world!"
          ],
          "name": "stdout"
        }
      ]
    },
    {
      "cell_type": "code",
      "metadata": {
        "id": "b9e2WLU0Phgw",
        "colab": {
          "base_uri": "https://localhost:8080/",
          "height": 235
        },
        "outputId": "0ddefe2c-a41c-47b9-dff6-2cd28044ea9a"
      },
      "source": [
        "for i in 'Hello world!':\n",
        "  print(i)"
      ],
      "execution_count": null,
      "outputs": [
        {
          "output_type": "stream",
          "text": [
            "H\n",
            "e\n",
            "l\n",
            "l\n",
            "o\n",
            " \n",
            "w\n",
            "o\n",
            "r\n",
            "l\n",
            "d\n",
            "!\n"
          ],
          "name": "stdout"
        }
      ]
    },
    {
      "cell_type": "code",
      "metadata": {
        "id": "aN23pbh1Pokj",
        "colab": {
          "base_uri": "https://localhost:8080/",
          "height": 35
        },
        "outputId": "f16f8db0-a76d-4c39-cf24-8f3ad9082cdd"
      },
      "source": [
        "x=[]\n",
        "for i in range(1,11):\n",
        "  x.append(i**2)\n",
        "\n",
        "x"
      ],
      "execution_count": null,
      "outputs": [
        {
          "output_type": "execute_result",
          "data": {
            "text/plain": [
              "[1, 4, 9, 16, 25, 36, 49, 64, 81, 100]"
            ]
          },
          "metadata": {
            "tags": []
          },
          "execution_count": 11
        }
      ]
    },
    {
      "cell_type": "code",
      "metadata": {
        "id": "Gcaod_htP2oU",
        "colab": {
          "base_uri": "https://localhost:8080/",
          "height": 35
        },
        "outputId": "d7fc3783-d814-4abf-d37b-876ae6ff7e64"
      },
      "source": [
        "x=[i**2 for i in range(1,11)]\n",
        "\n",
        "x"
      ],
      "execution_count": null,
      "outputs": [
        {
          "output_type": "execute_result",
          "data": {
            "text/plain": [
              "[1, 4, 9, 16, 25, 36, 49, 64, 81, 100]"
            ]
          },
          "metadata": {
            "tags": []
          },
          "execution_count": 13
        }
      ]
    },
    {
      "cell_type": "code",
      "metadata": {
        "id": "Oo5TOLUKP8EW",
        "colab": {
          "base_uri": "https://localhost:8080/",
          "height": 35
        },
        "outputId": "308144aa-79bb-4728-98ee-4d64cb50b9b3"
      },
      "source": [
        "x=[]\n",
        "for i in range(1,9):\n",
        "  x.append(i/10)\n",
        "\n",
        "x"
      ],
      "execution_count": null,
      "outputs": [
        {
          "output_type": "execute_result",
          "data": {
            "text/plain": [
              "[0.1, 0.2, 0.3, 0.4, 0.5, 0.6, 0.7, 0.8]"
            ]
          },
          "metadata": {
            "tags": []
          },
          "execution_count": 14
        }
      ]
    },
    {
      "cell_type": "code",
      "metadata": {
        "id": "9s0D68IYQCaF",
        "colab": {
          "base_uri": "https://localhost:8080/",
          "height": 35
        },
        "outputId": "2919e253-cd41-4751-a1a6-30dbb6798a55"
      },
      "source": [
        "x=[i/10 for i in range(1,9)]\n",
        "\n",
        "x"
      ],
      "execution_count": null,
      "outputs": [
        {
          "output_type": "execute_result",
          "data": {
            "text/plain": [
              "[0.1, 0.2, 0.3, 0.4, 0.5, 0.6, 0.7, 0.8]"
            ]
          },
          "metadata": {
            "tags": []
          },
          "execution_count": 16
        }
      ]
    },
    {
      "cell_type": "code",
      "metadata": {
        "id": "1vU9fv9DQ2FH",
        "colab": {
          "base_uri": "https://localhost:8080/",
          "height": 289
        },
        "outputId": "8843871a-f15d-4ce2-9fa2-334eaa9df262"
      },
      "source": [
        "#실습: 패션 추천 조합\n",
        "\n",
        "import random\n",
        "\n",
        "color=['black', 'grey', 'white', 'pink', 'orange']\n",
        "topwears=['sweater', 'shirts', 'blouse', 'jacket']\n",
        "bottomwears=['skirt', 'pants', 'leggings', 'jeans']\n",
        "accessory=['hat', 'tie', 'scarf', 'shoes']\n",
        "\n",
        "for i in range(1,4):\n",
        "  print('오늘의 패션', str(i)+'번 추천 조합입니다.')\n",
        "  print(color[random.randint(0,4)],topwears[random.randint(0,3)])\n",
        "  print(color[random.randint(0,4)],bottomwears[random.randint(0,3)])\n",
        "  print(color[random.randint(0,4)],accessory[random.randint(0,3)])\n",
        "  print('')\n"
      ],
      "execution_count": null,
      "outputs": [
        {
          "output_type": "stream",
          "text": [
            "오늘의 패션 1번 추천 조합입니다.\n",
            "grey jacket\n",
            "white skirt\n",
            "black hat\n",
            "\n",
            "오늘의 패션 2번 추천 조합입니다.\n",
            "pink shirts\n",
            "pink skirt\n",
            "black hat\n",
            "\n",
            "오늘의 패션 3번 추천 조합입니다.\n",
            "white sweater\n",
            "white pants\n",
            "white hat\n",
            "\n"
          ],
          "name": "stdout"
        }
      ]
    },
    {
      "cell_type": "code",
      "metadata": {
        "id": "h5vwnglxU7Ck",
        "colab": {
          "base_uri": "https://localhost:8080/",
          "height": 35
        },
        "outputId": "1962f7a5-0802-4e83-af46-74a5b90e3411"
      },
      "source": [
        "#실습: 소수 찾기\n",
        "\n",
        "s_list=[1]\n",
        "n_list=[]\n",
        "\n",
        "for i in range(3,101,2):\n",
        "  for s in range(3,i,2):\n",
        "      n_list.append(i%s)\n",
        "  if (0 in n_list)==False:\n",
        "    s_list.append(i)\n",
        "  n_list=[]\n",
        "\n",
        "print(s_list)"
      ],
      "execution_count": null,
      "outputs": [
        {
          "output_type": "stream",
          "text": [
            "[1, 3, 5, 7, 11, 13, 17, 19, 23, 29, 31, 37, 41, 43, 47, 53, 59, 61, 67, 71, 73, 79, 83, 89, 97]\n"
          ],
          "name": "stdout"
        }
      ]
    },
    {
      "cell_type": "markdown",
      "metadata": {
        "id": "JVnn6ebz_Pms"
      },
      "source": [
        "## 동영상강의"
      ]
    },
    {
      "cell_type": "code",
      "metadata": {
        "id": "a8aAWAzg_RiH",
        "colab": {
          "base_uri": "https://localhost:8080/",
          "height": 53
        },
        "outputId": "77c1726e-63d1-4c31-cee2-dfb96d5f1a16"
      },
      "source": [
        "# 실습\n",
        "try:\n",
        "  a= ['커피', '우유','바나나', '감귤', '사과', '화장지', '장갑', '이불', '베개', '장난감', '음료수', '빵']\n",
        "  b=input('삭제하고자 하는 상품은? ')\n",
        "  a.remove(b)\n",
        "  print(b, '삭제 완료')\n",
        "\n",
        "except:\n",
        "  print('예외 발생: 상품을 찾지 못하였습니다.')\n"
      ],
      "execution_count": null,
      "outputs": [
        {
          "output_type": "stream",
          "text": [
            "삭제하고자 하는 상품은? 핸드폰\n",
            "예외 발생: 상품을 찾지 못하였습니다.\n"
          ],
          "name": "stdout"
        }
      ]
    },
    {
      "cell_type": "markdown",
      "metadata": {
        "id": "IuDl_nh4GmSo"
      },
      "source": [
        "## 실습 강의"
      ]
    },
    {
      "cell_type": "code",
      "metadata": {
        "id": "xZOR11gvt1Be"
      },
      "source": [
        "# 7주차 실습 - 계산기 프로그램\n",
        "\n",
        "from tkinter import *\n",
        "\n",
        "def click(key):\n",
        "    if key =='=':\n",
        "        result=eval(display.get())\n",
        "        display.insert(END, '=' + str(result))\n",
        "    else:\n",
        "        display.insert(END,key)\n",
        "        \n",
        "window= Tk()\n",
        "window.title(\"My Calculator\")\n",
        "display=Entry(window, width=25, bg=\"yellow\")\n",
        "display.grid(row=0, column=0, columnspan=10)\n",
        "\n",
        "button_list='7, 8, 9, / , C, 4, 5, 6, *, , 1, 2, 3, -,  , 0, ., =, +, '\n",
        "button_list=button_list.split(', ')\n",
        "\n",
        "col_index=0\n",
        "row_index=1\n",
        "\n",
        "for button_text in button_list:\n",
        "    Button(window, text=button_text, width=5, command=lambda x=button_text : click(x)).grid(row=row_index, column=col_index)\n",
        "    col_index +=1\n",
        "    if col_index >4:\n",
        "        row_index +=1\n",
        "        col_index=0\n",
        "\n",
        "window.mainloop()"
      ],
      "execution_count": null,
      "outputs": []
    },
    {
      "cell_type": "code",
      "metadata": {
        "id": "D1qVuddzt1Be"
      },
      "source": [
        "# 7주차 실습 - 타자연습 프로그램\n",
        "\n",
        "from tkinter import *\n",
        "\n",
        "import random\n",
        "\n",
        "def randowWord():\n",
        "    global randy, randIndex\n",
        "    randIndex=random.randint(0, len(wordlist)-1)\n",
        "    randx=random.randint(50,450)\n",
        "    randy=random.randint(50,100)\n",
        "    canvas.create_text(randx, randy, font='Helvetica 16', text=wordlist[randIndex], tags=\"word\")\n",
        "\n",
        "def del_word(event):\n",
        "    if entry.get()==wordlist[randIndex]:\n",
        "        canvas.delete(\"word\")\n",
        "        entry.delete(0,END)\n",
        "        randomWord()\n",
        "    else:\n",
        "        entry.delete(0,END)\n",
        "\n",
        "def Quit():\n",
        "    window.destroy()\n",
        "\n",
        "\n",
        "window=Tk()\n",
        "window.title(\"영어단어타자연습\")\n",
        "\n",
        "canvas=Canvas(window, bg=\"white\", width=500, height=500)\n",
        "canvas.pack()\n",
        "entry=Entry(window, font='Helvetica 16')\n",
        "entry.pack()\n",
        "button=Button(window, text=\"게임종료하기\", font='Helvetica 16 bold', command=Quit)\n",
        "button.pack()\n",
        "\n",
        "wordlist='''ant baboon badger bat bear beaver camel cat\n",
        "clam cobra cougar couote crow deer dog donkey\n",
        "duck eagle ferret fox frog goat goose hawk lion lizard\n",
        "llama mole mokey mooose mouse mule newt otter owl\n",
        "panda parrot pigeon python rabbit ram rat raven rhino\n",
        "slamon seal shark sheep skunk sloth snake spider\n",
        "stork swan tiger toad trout turkey turtle weasle whale\n",
        "wolf zebra'''.split()\n",
        "\n",
        "randowWord()\n",
        "canvas.bind_all(\"<KeyPress-Return>\", del_word)\n",
        "\n",
        "try:\n",
        "    while True:\n",
        "        canvas.move(\"word\",0,3)\n",
        "        canvas.after(100)\n",
        "        canvas.update()\n",
        "        randy=randy+3\n",
        "        if randy>500:\n",
        "            canvas.delete(\"word\")\n",
        "            randomWord() \n",
        "except:\n",
        "    pass\n",
        "\n",
        "window.mainloop()"
      ],
      "execution_count": null,
      "outputs": []
    }
  ]
}