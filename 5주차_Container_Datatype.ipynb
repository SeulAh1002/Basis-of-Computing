{
  "nbformat": 4,
  "nbformat_minor": 0,
  "metadata": {
    "colab": {
      "name": "5주차_Container Datatype.ipynb",
      "provenance": [],
      "collapsed_sections": [],
      "authorship_tag": "ABX9TyNfEpieBEOw8ssikGmpdGd4",
      "include_colab_link": true
    },
    "kernelspec": {
      "name": "python3",
      "display_name": "Python 3"
    }
  },
  "cells": [
    {
      "cell_type": "markdown",
      "metadata": {
        "id": "view-in-github",
        "colab_type": "text"
      },
      "source": [
        "<a href=\"https://colab.research.google.com/github/SeulAh1002/Basis-of-Computing/blob/main/5%EC%A3%BC%EC%B0%A8_Container_Datatype.ipynb\" target=\"_parent\"><img src=\"https://colab.research.google.com/assets/colab-badge.svg\" alt=\"Open In Colab\"/></a>"
      ]
    },
    {
      "cell_type": "markdown",
      "metadata": {
        "id": "usK4x_Ojm0fp"
      },
      "source": [
        "#5주차"
      ]
    },
    {
      "cell_type": "markdown",
      "metadata": {
        "id": "agKtkXWFnDCN"
      },
      "source": [
        "## 동영상강의"
      ]
    },
    {
      "cell_type": "code",
      "metadata": {
        "id": "c7ES2Il9m2oq",
        "colab": {
          "base_uri": "https://localhost:8080/",
          "height": 90
        },
        "outputId": "ab5049d5-65f4-4245-cb9e-5cb42cf8f562"
      },
      "source": [
        "shape=['turtle', 'arrow', 'circle', 'square']\n",
        "print(shape[0])\n",
        "print(shape[1])\n",
        "print(shape[2])\n",
        "print(shape[3])"
      ],
      "execution_count": null,
      "outputs": [
        {
          "output_type": "stream",
          "text": [
            "turtle\n",
            "arrow\n",
            "circle\n",
            "square\n"
          ],
          "name": "stdout"
        }
      ]
    },
    {
      "cell_type": "code",
      "metadata": {
        "id": "9-ky6LOSePZL",
        "colab": {
          "base_uri": "https://localhost:8080/",
          "height": 90
        },
        "outputId": "a958e4c9-852f-4daf-dc88-a0fac4700bb2"
      },
      "source": [
        "shape=['turtle', 'arrow', 'circle', 'square']\n",
        "print(shape[-1])\n",
        "print(shape[-2])\n",
        "print(shape[-3])\n",
        "print(shape[-4  ])"
      ],
      "execution_count": null,
      "outputs": [
        {
          "output_type": "stream",
          "text": [
            "square\n",
            "circle\n",
            "arrow\n",
            "turtle\n"
          ],
          "name": "stdout"
        }
      ]
    },
    {
      "cell_type": "code",
      "metadata": {
        "id": "pgygAZMreiB0",
        "colab": {
          "base_uri": "https://localhost:8080/",
          "height": 35
        },
        "outputId": "fb38b830-f7d0-4d65-d31b-006925de4dfe"
      },
      "source": [
        "shape=['turtle', 'arrow', 'circle', 'square']\n",
        "shape[1]='ARROW'\n",
        "print(shape)"
      ],
      "execution_count": null,
      "outputs": [
        {
          "output_type": "stream",
          "text": [
            "['turtle', 'ARROW', 'circle', 'square']\n"
          ],
          "name": "stdout"
        }
      ]
    },
    {
      "cell_type": "code",
      "metadata": {
        "id": "woRvrjTegVwT",
        "colab": {
          "base_uri": "https://localhost:8080/",
          "height": 35
        },
        "outputId": "58d2c452-985b-4222-8a39-fba687cb7310"
      },
      "source": [
        "shape=['turtle', 'arrow', 'circle', 'square']\n",
        "shape[1]='ARROW'\n",
        "shape.append('heart')\n",
        "print(shape)"
      ],
      "execution_count": null,
      "outputs": [
        {
          "output_type": "stream",
          "text": [
            "['turtle', 'ARROW', 'circle', 'square', 'heart']\n"
          ],
          "name": "stdout"
        }
      ]
    },
    {
      "cell_type": "code",
      "metadata": {
        "id": "XzbvFxJzgYrg",
        "colab": {
          "base_uri": "https://localhost:8080/",
          "height": 35
        },
        "outputId": "056c93c2-1c6f-4cbb-9c37-cad87de1f4d2"
      },
      "source": [
        "shape=['turtle', 'arrow', 'circle', 'square']\n",
        "shape[1]='ARROW'\n",
        "shape.append('heart')\n",
        "shape.append(27)\n",
        "print(shape)"
      ],
      "execution_count": null,
      "outputs": [
        {
          "output_type": "stream",
          "text": [
            "['turtle', 'ARROW', 'circle', 'square', 'heart', 27]\n"
          ],
          "name": "stdout"
        }
      ]
    },
    {
      "cell_type": "code",
      "metadata": {
        "id": "s9tNkoZifUXq",
        "colab": {
          "base_uri": "https://localhost:8080/",
          "height": 35
        },
        "outputId": "f0c6c386-6c05-4bce-f10f-c8a1e4553ba9"
      },
      "source": [
        "shape=['turtle', 'arrow', 'circle', 'square']\n",
        "shape[1]='ARROW'\n",
        "shape.append('heart')\n",
        "shape.append(27)\n",
        "number=[1,2,3]\n",
        "shape.extend(number)\n",
        "print(shape)"
      ],
      "execution_count": null,
      "outputs": [
        {
          "output_type": "stream",
          "text": [
            "['turtle', 'ARROW', 'circle', 'square', 'heart', 27, 1, 2, 3]\n"
          ],
          "name": "stdout"
        }
      ]
    },
    {
      "cell_type": "code",
      "metadata": {
        "id": "TanL4RJSf9vP",
        "colab": {
          "base_uri": "https://localhost:8080/",
          "height": 35
        },
        "outputId": "ec12a4ad-ba16-42b9-8ed8-bc8b45a6669a"
      },
      "source": [
        "shape=['turtle', 'arrow', 'circle', 'square']\n",
        "shape[1]='ARROW'\n",
        "shape.append('heart')\n",
        "shape.append(27)\n",
        "number=[1,2,3]\n",
        "shape.extend(number)\n",
        "shape.insert(1,'heart')\n",
        "print(shape)"
      ],
      "execution_count": null,
      "outputs": [
        {
          "output_type": "stream",
          "text": [
            "['turtle', 'heart', 'ARROW', 'circle', 'square', 'heart', 27, 1, 2, 3]\n"
          ],
          "name": "stdout"
        }
      ]
    },
    {
      "cell_type": "code",
      "metadata": {
        "id": "nh7M7OBWguk3",
        "colab": {
          "base_uri": "https://localhost:8080/",
          "height": 35
        },
        "outputId": "39d01aac-cfe3-47f0-c220-6f7d32db7cc2"
      },
      "source": [
        "shape=['turtle', 'arrow', 'circle', 'square']\n",
        "shape[1]='ARROW'\n",
        "shape.append('heart')\n",
        "shape.append(27)\n",
        "number=[1,2,3]\n",
        "shape.extend(number)\n",
        "shape.insert(1,'heart')\n",
        "shape.insert(3,'triangle')\n",
        "print(shape)"
      ],
      "execution_count": null,
      "outputs": [
        {
          "output_type": "stream",
          "text": [
            "['turtle', 'heart', 'ARROW', 'triangle', 'circle', 'square', 'heart', 27, 1, 2, 3]\n"
          ],
          "name": "stdout"
        }
      ]
    },
    {
      "cell_type": "code",
      "metadata": {
        "id": "M2A_w0-3hll4",
        "colab": {
          "base_uri": "https://localhost:8080/",
          "height": 53
        },
        "outputId": "314e9258-966c-403d-ae2a-be56e2acd252"
      },
      "source": [
        "shape=['turtle', 'arrow', 'circle', 'square']\n",
        "shape[1]='ARROW'\n",
        "shape.append('heart')\n",
        "shape.append(27)\n",
        "number=[1,2,3]\n",
        "shape.extend(number)\n",
        "shape.insert(1,'heart')\n",
        "shape.insert(3,'triangle')\n",
        "print(shape)\n",
        "del shape[2]\n",
        "print(shape)"
      ],
      "execution_count": null,
      "outputs": [
        {
          "output_type": "stream",
          "text": [
            "['turtle', 'heart', 'ARROW', 'triangle', 'circle', 'square', 'heart', 27, 1, 2, 3]\n",
            "['turtle', 'heart', 'triangle', 'circle', 'square', 'heart', 27, 1, 2, 3]\n"
          ],
          "name": "stdout"
        }
      ]
    },
    {
      "cell_type": "code",
      "metadata": {
        "id": "Om5foN7TjIKh",
        "colab": {
          "base_uri": "https://localhost:8080/",
          "height": 35
        },
        "outputId": "10fa44c1-da2d-4493-cf6d-419047e2a378"
      },
      "source": [
        "  a= [0, 1, 2, 3, 4, 5]\n",
        "  a[0:2]\n",
        "  a[2:]\n",
        "  a[:4:2]\n",
        "  a[-4:-2]\n",
        "  a[-3:]\n",
        "  a[:-3]"
      ],
      "execution_count": null,
      "outputs": [
        {
          "output_type": "execute_result",
          "data": {
            "text/plain": [
              "[0, 1, 2]"
            ]
          },
          "metadata": {
            "tags": []
          },
          "execution_count": 21
        }
      ]
    },
    {
      "cell_type": "code",
      "metadata": {
        "id": "Njig4QSVoqS5",
        "colab": {
          "base_uri": "https://localhost:8080/",
          "height": 35
        },
        "outputId": "0809c6f6-9502-4a94-b46f-0840dcf7fd07"
      },
      "source": [
        "num=[0,1,2,3,4,5]\n",
        "shape=['turtle', 'arrow', 'circle', 'square', 'heart']\n",
        "num+shape"
      ],
      "execution_count": null,
      "outputs": [
        {
          "output_type": "execute_result",
          "data": {
            "text/plain": [
              "[0, 1, 2, 3, 4, 5, 'turtle', 'arrow', 'circle', 'square', 'heart']"
            ]
          },
          "metadata": {
            "tags": []
          },
          "execution_count": 22
        }
      ]
    },
    {
      "cell_type": "code",
      "metadata": {
        "id": "VokVw3Odo285",
        "colab": {
          "base_uri": "https://localhost:8080/",
          "height": 35
        },
        "outputId": "d9c99e82-6d4a-4c1f-91d1-ccdef8c04696"
      },
      "source": [
        "num=[0,1,2,3,4,5]\n",
        "num*2"
      ],
      "execution_count": null,
      "outputs": [
        {
          "output_type": "execute_result",
          "data": {
            "text/plain": [
              "[0, 1, 2, 3, 4, 5, 0, 1, 2, 3, 4, 5]"
            ]
          },
          "metadata": {
            "tags": []
          },
          "execution_count": 23
        }
      ]
    },
    {
      "cell_type": "code",
      "metadata": {
        "id": "GWzuJyPMpRIt",
        "colab": {
          "base_uri": "https://localhost:8080/",
          "height": 35
        },
        "outputId": "658a1769-e64b-470f-d7d8-cc6166295c3c"
      },
      "source": [
        "ID=[1,2,3,4]\n",
        "area=['Seoul', 'Kwangju']\n",
        "name=['Alice', 'Bob']\n",
        "student=[ID, area, name]\n",
        "student"
      ],
      "execution_count": null,
      "outputs": [
        {
          "output_type": "execute_result",
          "data": {
            "text/plain": [
              "[[1, 2, 3, 4], ['Seoul', 'Kwangju'], ['Alice', 'Bob']]"
            ]
          },
          "metadata": {
            "tags": []
          },
          "execution_count": 24
        }
      ]
    },
    {
      "cell_type": "code",
      "metadata": {
        "id": "RQyja75zp1CE",
        "colab": {
          "base_uri": "https://localhost:8080/",
          "height": 35
        },
        "outputId": "34acb9eb-adbf-4513-e62a-6cf4da289432"
      },
      "source": [
        "shape=['turtle', 'arrow', 'circle', 'square', 'heart']\n",
        "shape.sort()\n",
        "shape"
      ],
      "execution_count": null,
      "outputs": [
        {
          "output_type": "execute_result",
          "data": {
            "text/plain": [
              "['arrow', 'circle', 'heart', 'square', 'turtle']"
            ]
          },
          "metadata": {
            "tags": []
          },
          "execution_count": 25
        }
      ]
    },
    {
      "cell_type": "code",
      "metadata": {
        "id": "DUSaSrOhp3H5",
        "colab": {
          "base_uri": "https://localhost:8080/",
          "height": 35
        },
        "outputId": "fa722ce7-4a3a-4b9a-f2e1-81662f856141"
      },
      "source": [
        "numbers=[8,6,3,10,2,9,1,4,7,5]\n",
        "numbers.sort()\n",
        "numbers"
      ],
      "execution_count": null,
      "outputs": [
        {
          "output_type": "execute_result",
          "data": {
            "text/plain": [
              "[1, 2, 3, 4, 5, 6, 7, 8, 9, 10]"
            ]
          },
          "metadata": {
            "tags": []
          },
          "execution_count": 26
        }
      ]
    },
    {
      "cell_type": "code",
      "metadata": {
        "id": "ZE98l15NqK8n",
        "colab": {
          "base_uri": "https://localhost:8080/",
          "height": 53
        },
        "outputId": "b5503421-c7e4-44d9-e8a3-ba3ca97c945c"
      },
      "source": [
        "numbers=[8,6,3,10,2,9,1,4,7,5]\n",
        "sorted_numbers=sorted(numbers)\n",
        "print(sorted_numbers)\n",
        "print(numbers)"
      ],
      "execution_count": null,
      "outputs": [
        {
          "output_type": "stream",
          "text": [
            "[1, 2, 3, 4, 5, 6, 7, 8, 9, 10]\n",
            "[8, 6, 3, 10, 2, 9, 1, 4, 7, 5]\n"
          ],
          "name": "stdout"
        }
      ]
    },
    {
      "cell_type": "code",
      "metadata": {
        "id": "9tcx2AbhrOdB",
        "colab": {
          "base_uri": "https://localhost:8080/",
          "height": 90
        },
        "outputId": "d306c034-8537-42de-aa02-58cbe431d656"
      },
      "source": [
        "a='Hello world'\n",
        "b=list(a)\n",
        "c=a.split()\n",
        "d=a.split('o')\n",
        "print(a)\n",
        "print(b)\n",
        "print(c)\n",
        "print(d)"
      ],
      "execution_count": null,
      "outputs": [
        {
          "output_type": "stream",
          "text": [
            "Hello world\n",
            "['H', 'e', 'l', 'l', 'o', ' ', 'w', 'o', 'r', 'l', 'd']\n",
            "['Hello', 'world']\n",
            "['Hell', ' w', 'rld']\n"
          ],
          "name": "stdout"
        }
      ]
    },
    {
      "cell_type": "code",
      "metadata": {
        "id": "ADzfSRxtrsjb",
        "colab": {
          "base_uri": "https://localhost:8080/",
          "height": 35
        },
        "outputId": "57cbc065-086f-4439-d6bc-c10ff700911d"
      },
      "source": [
        "a='123'\n",
        "a[0]\n",
        "a[1]\n",
        "a[2]\n",
        "a[-1]\n",
        "a[-2]\n",
        "a[-3]"
      ],
      "execution_count": null,
      "outputs": [
        {
          "output_type": "execute_result",
          "data": {
            "application/vnd.google.colaboratory.intrinsic+json": {
              "type": "string"
            },
            "text/plain": [
              "'1'"
            ]
          },
          "metadata": {
            "tags": []
          },
          "execution_count": 32
        }
      ]
    },
    {
      "cell_type": "code",
      "metadata": {
        "id": "8Gm_S7T9r0no",
        "colab": {
          "base_uri": "https://localhost:8080/",
          "height": 35
        },
        "outputId": "5c44e5f7-16be-4449-a9a0-3bed01fed6a8"
      },
      "source": [
        "a='012345'\n",
        "a[0:2]\n",
        "a[2:]\n",
        "a[:4:2]\n",
        "a[-4:-2]\n",
        "a[-3:]\n",
        "a[:3]"
      ],
      "execution_count": null,
      "outputs": [
        {
          "output_type": "execute_result",
          "data": {
            "application/vnd.google.colaboratory.intrinsic+json": {
              "type": "string"
            },
            "text/plain": [
              "'012'"
            ]
          },
          "metadata": {
            "tags": []
          },
          "execution_count": 34
        }
      ]
    },
    {
      "cell_type": "code",
      "metadata": {
        "id": "VF6suDP9sqOw",
        "colab": {
          "base_uri": "https://localhost:8080/",
          "height": 35
        },
        "outputId": "6fb319f5-62a0-4c9e-8058-aa34bac1492a"
      },
      "source": [
        "list(range(10))\n",
        "list(range(3,7))\n",
        "list(range(10,1,-2))\n",
        "list(range(1,7,-1))"
      ],
      "execution_count": null,
      "outputs": [
        {
          "output_type": "execute_result",
          "data": {
            "text/plain": [
              "[]"
            ]
          },
          "metadata": {
            "tags": []
          },
          "execution_count": 38
        }
      ]
    },
    {
      "cell_type": "code",
      "metadata": {
        "id": "kEvi94Jks-RK",
        "colab": {
          "base_uri": "https://localhost:8080/",
          "height": 35
        },
        "outputId": "69e6f3df-9007-4969-c385-3c1a9ea92c3c"
      },
      "source": [
        "a=[6,2,3,3,8]\n",
        "a.count(3)\n",
        "a.count(6)\n",
        "a.count(9)"
      ],
      "execution_count": null,
      "outputs": [
        {
          "output_type": "execute_result",
          "data": {
            "text/plain": [
              "0"
            ]
          },
          "metadata": {
            "tags": []
          },
          "execution_count": 41
        }
      ]
    },
    {
      "cell_type": "code",
      "metadata": {
        "id": "JU2YqY5xtE6h",
        "colab": {
          "base_uri": "https://localhost:8080/",
          "height": 35
        },
        "outputId": "6c492130-5d68-455f-d6a6-b29df6003883"
      },
      "source": [
        "a=[6,2,3,3,8]\n",
        "len(a)"
      ],
      "execution_count": null,
      "outputs": [
        {
          "output_type": "execute_result",
          "data": {
            "text/plain": [
              "5"
            ]
          },
          "metadata": {
            "tags": []
          },
          "execution_count": 42
        }
      ]
    },
    {
      "cell_type": "code",
      "metadata": {
        "id": "Y8A4QmBgtJtX",
        "colab": {
          "base_uri": "https://localhost:8080/",
          "height": 35
        },
        "outputId": "56a00d30-704f-40d1-d5ce-d87a6acb8571"
      },
      "source": [
        "a='Hello world'\n",
        "len(a )"
      ],
      "execution_count": null,
      "outputs": [
        {
          "output_type": "execute_result",
          "data": {
            "text/plain": [
              "11"
            ]
          },
          "metadata": {
            "tags": []
          },
          "execution_count": 43
        }
      ]
    },
    {
      "cell_type": "code",
      "metadata": {
        "id": "OBbx6MPHtT9o",
        "colab": {
          "base_uri": "https://localhost:8080/",
          "height": 53
        },
        "outputId": "df3ea180-bb41-43c5-ca9d-f1fe1a9d7678"
      },
      "source": [
        "# 예제1\n",
        "inputScores=input('Input scores: ')\n",
        "scores=inputScores.split()\n",
        "sum=0\n",
        "index=0\n",
        "\n",
        "while index <len(scores):\n",
        "  sum +=int(scores[index])\n",
        "  index +=1\n",
        "\n",
        "print(\"Sum :\", sum)"
      ],
      "execution_count": null,
      "outputs": [
        {
          "output_type": "stream",
          "text": [
            "Input scores: 32 70 46 88\n",
            "Sum : 236\n"
          ],
          "name": "stdout"
        }
      ]
    },
    {
      "cell_type": "code",
      "metadata": {
        "id": "Max70cbyumpl",
        "colab": {
          "base_uri": "https://localhost:8080/",
          "height": 53
        },
        "outputId": "3fd926eb-1280-4260-b64c-35f014f6836b"
      },
      "source": [
        "inputScores=input('Input scores: ')\n",
        "scores=inputScores.split(',')\n",
        "sum=0\n",
        "index=0\n",
        "\n",
        "while index <len(scores):\n",
        "  sum +=int(scores[index])\n",
        "  index +=1\n",
        "\n",
        "print(\"Sum :\", sum)"
      ],
      "execution_count": null,
      "outputs": [
        {
          "output_type": "stream",
          "text": [
            "Input scores: 32, 70, 46, 88\n",
            "Sum : 236\n"
          ],
          "name": "stdout"
        }
      ]
    },
    {
      "cell_type": "code",
      "metadata": {
        "id": "OcjGbjfYuuMr",
        "colab": {
          "base_uri": "https://localhost:8080/",
          "height": 72
        },
        "outputId": "e6a47df0-17c0-4ebb-b8b3-64bc9d61e983"
      },
      "source": [
        "inputScores=input('Input scores: ')\n",
        "scores=inputScores.split(',')\n",
        "sum=0\n",
        "average=0\n",
        "index=0\n",
        "\n",
        "while index <len(scores):\n",
        "  sum +=int(scores[index])\n",
        "  average = (average + int(scores[index]))/(index+1)\n",
        "  index +=1\n",
        "\n",
        "print(\"Sum :\", sum)\n",
        "print(\"Average :\", average)"
      ],
      "execution_count": null,
      "outputs": [
        {
          "output_type": "stream",
          "text": [
            "Input scores: 32, 70, 46, 88\n",
            "Sum : 236\n",
            "Average : 30.083333333333336\n"
          ],
          "name": "stdout"
        }
      ]
    },
    {
      "cell_type": "code",
      "metadata": {
        "id": "T6R61_NPvWAC",
        "colab": {
          "base_uri": "https://localhost:8080/",
          "height": 126
        },
        "outputId": "e36e671e-ac4c-4cce-b138-354d51a5b25a"
      },
      "source": [
        "#예제2\n",
        "drinks= ['콜라', '사이다', '환타']\n",
        "coin= int(input('동전을 넣으세요: '))\n",
        "\n",
        "while coin>=500:\n",
        "   print('\\n현재금액:',coin,'원')\n",
        "   sel=int(input('콜라(0), 사이다(1), 환타(2): '))\n",
        "   print(drinks[sel]+'가 나왔습니다.')\n",
        "   coin -=500\n",
        "\n",
        "print('거스름돈:', coin, '원')"
      ],
      "execution_count": null,
      "outputs": [
        {
          "output_type": "stream",
          "text": [
            "동전을 넣으세요: 700\n",
            "\n",
            "현재금액: 700 원\n",
            "콜라(0), 사이다(1), 환타(2): 2\n",
            "환타가 나왔습니다.\n",
            "거스름돈: 200 원\n"
          ],
          "name": "stdout"
        }
      ]
    },
    {
      "cell_type": "markdown",
      "metadata": {
        "id": "05U2aEHF_1SS"
      },
      "source": [
        "## 실습강의"
      ]
    },
    {
      "cell_type": "code",
      "metadata": {
        "id": "vL6JY_ud_01T",
        "colab": {
          "base_uri": "https://localhost:8080/",
          "height": 362
        },
        "outputId": "2c361f50-8948-4b18-ab47-8fc447aaa970"
      },
      "source": [
        "#실습1\n",
        "goods=['커피','우유','바나나','감귤','화장지','장갑','이불','베개','장난감','음료수','빵']\n",
        "sel=['삽입','삭제','상품 확인','종료']\n",
        "\n",
        "print('상품재고관리 프로그램')\n",
        "\n",
        "while True:\n",
        "  sel2=input('\\n상품관리(1.삽입, 2. 삭제, 3.상품 확인, 4. 종료): ')\n",
        "\n",
        "  if int(sel2)==4:\n",
        "    break\n",
        "\n",
        "  what=input('상품관리'+sel2+'-'+sel[int(sel2)-1]+') ' +sel[int(sel2)-1]+'하고자 하는 상품은? ')\n",
        "\n",
        "  if int(sel2)==1:\n",
        "     where=int(input(sel[int(sel2)-1]+'하고자 하는 위치는?'))\n",
        "     goods.insert(where,what)\n",
        "     print(what+'삽입 완료')\n",
        "     print(goods)\n",
        "\n",
        "  elif int(sel2)==2:\n",
        "     goods.remove(what)\n",
        "     print(what+'삭제 완료')\n",
        "     print(goods)\n",
        "  \n",
        "  elif int(sel2)==3:\n",
        "     if (what in goods) ==True:\n",
        "       print(what+'검색 완료')\n",
        "     else: print('검색하는 상품을 찾지 못하였습니다.')\n",
        "\n",
        "print('프로그램을 종료합니다.')"
      ],
      "execution_count": null,
      "outputs": [
        {
          "output_type": "stream",
          "text": [
            "상품재고관리 프로그램\n",
            "\n",
            "상품관리(1.삽입, 2. 삭제, 3.상품 확인, 4. 종료): 1\n",
            "상품관리1-삽입) 삽입하고자 하는 상품은? 사과\n",
            "삽입하고자 하는 위치는?4\n",
            "사과삽입 완료\n",
            "['커피', '우유', '바나나', '감귤', '사과', '화장지', '장갑', '이불', '베개', '장난감', '음료수', '빵']\n",
            "\n",
            "상품관리(1.삽입, 2. 삭제, 3.상품 확인, 4. 종료): 2\n",
            "상품관리2-삭제) 삭제하고자 하는 상품은? 장난감\n",
            "장난감삭제 완료\n",
            "['커피', '우유', '바나나', '감귤', '사과', '화장지', '장갑', '이불', '베개', '음료수', '빵']\n",
            "\n",
            "상품관리(1.삽입, 2. 삭제, 3.상품 확인, 4. 종료): 3\n",
            "상품관리3-상품 확인) 상품 확인하고자 하는 상품은? 베개\n",
            "베개검색 완료\n",
            "\n",
            "상품관리(1.삽입, 2. 삭제, 3.상품 확인, 4. 종료): 4\n",
            "프로그램을 종료합니다.\n"
          ],
          "name": "stdout"
        }
      ]
    },
    {
      "cell_type": "code",
      "metadata": {
        "id": "p5A8vlAC_yxT",
        "colab": {
          "base_uri": "https://localhost:8080/",
          "height": 144
        },
        "outputId": "230e9173-e58c-4110-de75-fbd8d943e1d8"
      },
      "source": [
        "#실습 2\n",
        "GuDong=input('In : ')\n",
        "GuDong_s=GuDong.split()\n",
        "\n",
        "print('===== \\n동이름\\n=====')\n",
        "\n",
        "index=0\n",
        "while index<len(GuDong_s):\n",
        "  if GuDong_s[index][-1]=='동':\n",
        "    print(GuDong_s[index])\n",
        "  index +=1"
      ],
      "execution_count": null,
      "outputs": [
        {
          "output_type": "stream",
          "text": [
            "In : 강동구 노원구 용산구 상암동 서울시 논현동 평창동 중구\n",
            "===== \n",
            "동이름\n",
            "=====\n",
            "상암동\n",
            "논현동\n",
            "평창동\n"
          ],
          "name": "stdout"
        }
      ]
    },
    {
      "cell_type": "code",
      "metadata": {
        "id": "7cJHekcVLw8q",
        "colab": {
          "base_uri": "https://localhost:8080/",
          "height": 53
        },
        "outputId": "aed809c5-1260-477f-8573-8ed6688fe96c"
      },
      "source": [
        "#실습 3\n",
        "sen=input('Input : ')\n",
        "sen_s= sen.split()\n",
        "\n",
        "index=0\n",
        "\n",
        "while index<len(sen_s):\n",
        "  if (sen_s[index]=='A') or (sen_s[index]=='a') or (sen_s[index]=='An') or (sen_s[index]=='an') or (sen_s[index]=='The') or (sen_s[index]=='the'):\n",
        "    del sen_s[index]\n",
        "  index += 1\n",
        "\n",
        "print(sen_s)\n"
      ],
      "execution_count": null,
      "outputs": [
        {
          "output_type": "stream",
          "text": [
            "Input : A gift in season is a double favor to the needy.\n",
            "['gift', 'in', 'season', 'is', 'double', 'favor', 'to', 'needy.']\n"
          ],
          "name": "stdout"
        }
      ]
    },
    {
      "cell_type": "code",
      "metadata": {
        "id": "KHyAolINb2Jd",
        "colab": {
          "base_uri": "https://localhost:8080/"
        },
        "outputId": "f94feef7-81ac-4180-e175-afe0792ee1fc"
      },
      "source": [
        "#실습 4 ★\n",
        "import random\n",
        "print('이번 주 컴또복권!')\n",
        "total=0\n",
        "\n",
        "while True:\n",
        "  num_input=input('네 개의 숫자를 입력하세요: ')\n",
        "  num_input=num_input.split(', ')\n",
        "  \n",
        "  lotto=['1', '2', '3', '4', '5', '6', '7', '8', '9', '10']\n",
        "  while len(lotto)>4:\n",
        "    delindex=random.randint(0,len(lotto)-1)\n",
        "    del lotto[delindex]\n",
        "\n",
        "  check=0\n",
        "  correct=[]\n",
        "\n",
        "  while check<=3:\n",
        "    if (num_input[check] in lotto) == True:\n",
        "      correct_num=int(num_input[check])\n",
        "      correct.append(correct_num)\n",
        "    check=check+1\n",
        "    \n",
        "  print('맞춘 숫자는', correct,'입니다')\n",
        "  \n",
        "  if (len(correct)==4):\n",
        "    print('4개를 맞춰 당첨금은 10000원입니다.')\n",
        "    total=total+10000\n",
        "  elif (len(correct)==3):\n",
        "    print('3개를 맞춰 당첨금은 5000원입니다.')\n",
        "    total=total+5000\n",
        "  else:\n",
        "    print('당첨되지 않았습니다. 다음 기회에...')\n",
        "  \n",
        "  play=input('또 하시겠습니까?')\n",
        "  if (play[0]=='n') or (play[0]=='N'):\n",
        "    print('총 당첨금은 '+ str(total)+'원입니다.')\n",
        "    break"
      ],
      "execution_count": null,
      "outputs": [
        {
          "output_type": "stream",
          "text": [
            "이번 주 컴또복권!\n",
            "네 개의 숫자를 입력하세요: 3, 6, 7, 2\n",
            "맞춘 숫자는 [2] 입니다\n",
            "당첨되지 않았습니다. 다음 기회에...\n",
            "또 하시겠습니까?yes\n",
            "네 개의 숫자를 입력하세요: 5, 9, 10, 4\n",
            "맞춘 숫자는 [10, 4] 입니다\n",
            "당첨되지 않았습니다. 다음 기회에...\n",
            "또 하시겠습니까?yes\n",
            "네 개의 숫자를 입력하세요: 6, 10, 1, 3\n",
            "맞춘 숫자는 [1] 입니다\n",
            "당첨되지 않았습니다. 다음 기회에...\n",
            "또 하시겠습니까?no\n",
            "총 당첨금은0원입니다.\n"
          ],
          "name": "stdout"
        }
      ]
    },
    {
      "cell_type": "code",
      "metadata": {
        "id": "AQ8rTf_iansa",
        "colab": {
          "base_uri": "https://localhost:8080/"
        },
        "outputId": "f9e13270-7a17-4ecf-b876-85c73b4ec35a"
      },
      "source": [
        "# 실습5\n",
        "import random\n",
        "\n",
        "proverb=[]\n",
        "\n",
        "proverb.append('끔을 지녀라. 그러면 어려운 현실을 이길 수 있다.')\n",
        "proverb.append('고생없이 얻을 수 있는 진실로 귀중한 것은 하나도 없다.')\n",
        "proverb.append('사람은 사랑할 때 누구나 시인이 된다.')\n",
        "proverb.append('시작이 반이다.')\n",
        "proverb.append('나는 사랑으로 내가 이해하는 모든 것들을 이해한다.')\n",
        "\n",
        "\n",
        "print('''================================\n",
        "          오늘의 명언\n",
        "================================''')\n",
        "print(proverb[random.randint(1,len(proverb)-1)])"
      ],
      "execution_count": null,
      "outputs": [
        {
          "output_type": "stream",
          "text": [
            "================================\n",
            "          오늘의 명언\n",
            "================================\n",
            "사람은 사랑할 때 누구나 시인이 된다.\n"
          ],
          "name": "stdout"
        }
      ]
    },
    {
      "cell_type": "markdown",
      "metadata": {
        "id": "T39rcTetT0rm"
      },
      "source": [
        "## 동영상 강의"
      ]
    },
    {
      "cell_type": "code",
      "metadata": {
        "id": "G-a8r4PXT5BJ",
        "colab": {
          "base_uri": "https://localhost:8080/",
          "height": 53
        },
        "outputId": "4364b845-3a30-4943-d9e7-cc8dc5790b35"
      },
      "source": [
        "import timeit\n",
        "\n",
        "def start():\n",
        "  global startTime\n",
        "  startTime =timeit.default_timer()\n",
        "\n",
        "def stop():\n",
        "  stopTime=timeit.default_timer()\n",
        "  print('Time:', stopTime-startTime)\n",
        "\n",
        "# list() 있을 때\n",
        "start()\n",
        "s=0\n",
        "for n in list(range(10000000)):\n",
        "  s += n\n",
        "stop()\n",
        "\n",
        "# list() 없을 때\n",
        "start()\n",
        "s=0\n",
        "for n in range(10000000):\n",
        "  s += n\n",
        "stop()"
      ],
      "execution_count": null,
      "outputs": [
        {
          "output_type": "stream",
          "text": [
            "Time: 1.3983051870000054\n",
            "Time: 1.1117083519999937\n"
          ],
          "name": "stdout"
        }
      ]
    },
    {
      "cell_type": "code",
      "metadata": {
        "id": "PWZalxB6sJV8",
        "colab": {
          "base_uri": "https://localhost:8080/"
        },
        "outputId": "aadb5702-e2f0-459c-aa6f-61b260ff12fb"
      },
      "source": [
        "goods=['커피','우유','바나나','감귤','화장지','장갑','이불','베개','장난감','음료수','빵']\n",
        "\n",
        "def put(what, where):\n",
        "  global goods\n",
        "  goods.insert(what,where)\n",
        "  return goods\n",
        "\n",
        "def delete(what):\n",
        "  global goods\n",
        "  goods.remove(what)\n",
        "\n",
        "def search(what):\n",
        "  global goods\n",
        "  a=what in goods\n",
        "  return a\n",
        "\n",
        "print('상품재고관리 프로그램')\n",
        "\n",
        "while True:\n",
        "  print()\n",
        "  print(goods)\n",
        "  sel=input('상품관리(1.삽입, 2. 삭제, 3.상품 확인, 4. 종료): ')\n",
        "\n",
        "  if int(sel2) ==4:\n",
        "    break\n",
        "\n",
        "  elif int(sel) ==1:\n",
        "    what= input('상품관리1-삽입) 삽입하고자 하는 상품은?')\n",
        "    where=int(input('삽입하고자 하는 위치는?'))\n",
        "    put(what, where)\n",
        "\n",
        "  elif int(sel) ==2:\n",
        "    what= input('상품관리2-삭제) 삭제하고자 하는 상품은?')\n",
        "    if search(what)==True:\n",
        "      delete(what)\n",
        "      print(what,'삭제완료')\n",
        "    else: print('삭제하고자 하는 상품이 없습니다.')\n",
        "  \n",
        "  elif int(sel) ==3:\n",
        "    what= input('상품관리3-검색) 검색하고자 하는 상품은?')\n",
        "    if search(what)==True:\n",
        "      print(what+'검색 완료')\n",
        "    else: print('검색하는 상품을 찾지 못하였습니다.')\n",
        "    \n",
        "print('프로그램을 종료합니다.')"
      ],
      "execution_count": null,
      "outputs": [
        {
          "output_type": "stream",
          "text": [
            "상품재고관리 프로그램\n",
            "\n",
            "['커피', '우유', '바나나', '감귤', '화장지', '장갑', '이불', '베개', '장난감', '음료수', '빵']\n",
            "상품관리(1.삽입, 2. 삭제, 3.상품 확인, 4. 종료): 2\n",
            "상품관리2-삭제) 삭제하고자 하는 상품은?핸드폰\n",
            "삭제하고자 하는 상품이 없습니다.\n",
            "\n",
            "['커피', '우유', '바나나', '감귤', '화장지', '장갑', '이불', '베개', '장난감', '음료수', '빵']\n",
            "상품관리(1.삽입, 2. 삭제, 3.상품 확인, 4. 종료): 2\n",
            "상품관리2-삭제) 삭제하고자 하는 상품은?장난감\n",
            "장난감 삭제완료\n",
            "\n",
            "['커피', '우유', '바나나', '감귤', '화장지', '장갑', '이불', '베개', '음료수', '빵']\n",
            "상품관리(1.삽입, 2. 삭제, 3.상품 확인, 4. 종료): 4\n",
            "프로그램을 종료합니다.\n"
          ],
          "name": "stdout"
        }
      ]
    },
    {
      "cell_type": "markdown",
      "metadata": {
        "id": "BUjcKY8IS-T1"
      },
      "source": [
        "##실습 강의"
      ]
    },
    {
      "cell_type": "code",
      "metadata": {
        "id": "JXgC-WcqTAMZ",
        "colab": {
          "base_uri": "https://localhost:8080/"
        },
        "outputId": "64fbc905-caee-487b-cc93-e6964882033b"
      },
      "source": [
        "#실습1\n",
        "\n",
        "def sumsum(fin):\n",
        "  num=0\n",
        "  total=0\n",
        "  while num <= fin:\n",
        "    total=total+num\n",
        "    num +=1\n",
        "  return total\n",
        "\n",
        "fin=int(input('수를 입력하세요 : '))\n",
        "print('1부터',str(fin)+'까지의 합은', str(sumsum(fin))+'입니다.')\n",
        "\n"
      ],
      "execution_count": null,
      "outputs": [
        {
          "output_type": "stream",
          "text": [
            "수를 입력하세요 : 10\n",
            "1부터 10까지의 합은 55입니다.\n"
          ],
          "name": "stdout"
        }
      ]
    },
    {
      "cell_type": "code",
      "metadata": {
        "id": "RdtdTuc5TA6O"
      },
      "source": [
        "#실습 2~5\n",
        "\n",
        "def sumsum(num1, num2):\n",
        " return num1+num2\n",
        "\n",
        "def minus(num1, num2):\n",
        "  if num1>=num2:\n",
        "    return num1-num2\n",
        "  else:\n",
        "    return num2-num1\n",
        "\n",
        "def multiple(num1, num2):\n",
        "  return num1*num2\n",
        "\n",
        "def div(num1,num2):\n",
        "  if num1>=num2:\n",
        "    return int(num1/num2)\n",
        "  else:\n",
        "    return int(num2/num1)"
      ],
      "execution_count": null,
      "outputs": []
    },
    {
      "cell_type": "code",
      "metadata": {
        "id": "JbKUDWXUXvoC",
        "colab": {
          "base_uri": "https://localhost:8080/"
        },
        "outputId": "a4a4d143-a0d9-46ce-f5aa-994e61eb32f4"
      },
      "source": [
        "# 실습 2-6\n",
        "\n",
        "while True: \n",
        "  num1=int(input('첫 번째 숫자를 입력하세요: '))\n",
        "  num2=int(input('두 번째 숫자를 입력하세요: '))\n",
        "  M=input('연산자를 입력하세요(+,-,*,/) : ')\n",
        "  if M=='+':\n",
        "    print(str(num1)+'과(와)', str(num2)+'의 합은', str(sumsum(num1,num2))+'입니다.')\n",
        "  elif M=='-':\n",
        "    print(str(num1)+'과(와)', str(num2)+'의 차는', str(minus(num1,num2))+'입니다.')\n",
        "  elif M=='*':\n",
        "    print(str(num1)+'과(와)', str(num2)+'의 곱은', str(multiple(num1,num2))+'입니다.')\n",
        "  else:\n",
        "    if num1>=num2:\n",
        "      print(str(num1)+'을(를)', str(num2)+'(으)로 나눈 몫은', str(div(num1,num2))+'입니다.')\n",
        "    else: print(str(num2)+'을(를)', str(num1)+'(으)로 나눈 몫은', str(div(num1,num2))+'입니다.')\n",
        "\n",
        "\n",
        "  yesNo=input('계속하시겠습니까? ')\n",
        "  if yesNo== 'no' or yesNo=='n':\n",
        "    break\n"
      ],
      "execution_count": null,
      "outputs": [
        {
          "output_type": "stream",
          "text": [
            "\n",
            "첫 번째 숫자를 입력하세요: 3\n",
            "두 번째 숫자를 입력하세요: 20\n",
            "연산자를 입력하세요(+,-,*,/) : /\n",
            "20을(를) 3(으)로 나눈 몫은 7입니다.\n",
            "계속하시겠습니까? yes\n",
            "\n",
            "첫 번째 숫자를 입력하세요: 9\n",
            "두 번째 숫자를 입력하세요: 2\n",
            "연산자를 입력하세요(+,-,*,/) : *\n",
            "9과(와) 2의 곱은 18입니다.\n",
            "계속하시겠습니까? no\n"
          ],
          "name": "stdout"
        }
      ]
    },
    {
      "cell_type": "code",
      "metadata": {
        "id": "utNAK18igsgo",
        "colab": {
          "base_uri": "https://localhost:8080/"
        },
        "outputId": "49d3c7a8-6a44-4df5-cf7d-f7fcff3defc1"
      },
      "source": [
        "# 실습 2-7\n",
        "import time\n",
        "import random\n",
        "\n",
        "def intro1():\n",
        "  print('You are in a land full of dragons.')\n",
        "  time.sleep(1)\n",
        "  print('In front of you, you see two caves.')\n",
        "  time.sleep(1)\n",
        "  print('In one cave, the dragon is friendly,')\n",
        "  time.sleep(1)\n",
        "  print('and will share his treasure with you.')\n",
        "  time.sleep(1)\n",
        "  print('The other dragon is greedy and hungry,')\n",
        "  time.sleep(1)\n",
        "  print('and will eat you on sight.')\n",
        "  time.sleep(1)\n",
        "\n",
        "def chooseCave():\n",
        "    chosenCave=input('\\nwhich cave will you go into? (1 or 2)')\n",
        "    return chosenCave\n",
        "\n",
        "def intro2():\n",
        "  print('\\nyou approach the cave...')\n",
        "  time.sleep(1)\n",
        "  print('It is dark and spooky...')\n",
        "  time.sleep(1)\n",
        "  print('A large dragon jumps out in front of you!')\n",
        "  time.sleep(1)\n",
        "  print('He opens his jaws and...')\n",
        "  time.sleep(1)\n",
        "\n",
        "def checkCave(chosenCave):\n",
        "  if int(ans)==random.randint(1,2):\n",
        "    return 'yes'\n",
        "  else: return 'no'\n",
        "\n",
        "while True:\n",
        "  intro1()\n",
        "  chosenCave=chooseCave()\n",
        "  intro2()\n",
        "  if checkCave =='yes':\n",
        "      print('Gives you his treasure!')\n",
        "      print ('''\n",
        "                               __/>^^^;:,'\n",
        "            .    \\'    ,      /-.       :,/|/|'\n",
        "               _______     __/ ^         :,/ \\__'\n",
        "           _ ./_|___|_\\. _(~             ;/ /  /'\n",
        "              \\ \\   / /    `-\\'--._       / / ,<  ___'\n",
        "               \\ \\' \\' /   ,__.   /=\\     /  _/  >|_\\'.'\n",
        "                \\ \" /     `_ `--------\\'    __ / \\',\\ \\\\'\n",
        "                 \\./   ,_// ,---_____,   ,_  \\_  ,| |'\n",
        "                  V     `--\\' |=|           \\._/ ,/  |'\n",
        "                              \\=\\            `,,/   |'\n",
        "                               \\=\\            ||    /'\n",
        "                                \\=\\____       |\\    \\\\'\n",
        "                                / \\/    `     <__)    \\\\'\n",
        "                                | |                    |'\n",
        "                              ,__\\,\\                   /'\n",
        "                             ,--____>    /\\.         ./'\n",
        "                             \\'-__________>  \\.______/'\n",
        "        ''')\n",
        "  else:\n",
        "      print('Gobbles you down in one bite!')\n",
        "      print ('''\n",
        "              (  )   /\\   _                 (    ' \n",
        "               \\ |  (  \\ ( \\.(               )                      _____'\n",
        "             \\  \\ \\  `  `   ) \\             (  ___                 / _   \\\\'\n",
        "            (_`    \\+   . x  ( .\\            \\/   \\____-----------/ (o)   \\_'\n",
        "           - .-               \\+  ;          (  O                           \\____'\n",
        "                                     )        \\_____________  `              \\  /'\n",
        "           (__                +- .( -\\'.- <. - _  VVVVVVV VV V\\                 \\/'\n",
        "           (_____            ._._: <_ - <- _  (--  _AAAAAAA__A_/                  |'\n",
        "             .    /./.+-  . .- /  +--  - .     \\______________//_              \\_______'\n",
        "             (__ \\' /x  / x _/ (                                  \\___\\'          \\     /'\n",
        "            , x / ( \\'  . / .  /                                      |           \\   /'\n",
        "               /  /  _/ /    +                                      /              \\/'\n",
        "             \\'  (__/                                             /                  \\\\'\n",
        "        ''')\n",
        "  \n",
        "  ans2= input('Do you want to play again? (yes or no)')\n",
        "  \n",
        "  if (ans2!='yes') and (ans2!='y'):\n",
        "    print('Thank you!')\n",
        "    break"
      ],
      "execution_count": null,
      "outputs": [
        {
          "output_type": "stream",
          "text": [
            "\n",
            "You are in a land full of dragons.\n",
            "In front of you, you see two caves.\n",
            "In one cave, the dragon is friendly,\n",
            "and will share his treasure with you.\n",
            "The other dragon is greedy and hungry,\n",
            "and will eat you on sight.\n",
            "\n",
            "which cave will you go into? (1 or 2)1\n",
            "\n",
            "you approach the cave...\n",
            "It is dark and spooky...\n",
            "A large dragon jumps out in front of you!\n",
            "He opens his jaws and...\n",
            "Gobbles you down in one bite!\n",
            "\n",
            "              (  )   /\\   _                 (    ' \n",
            "               \\ |  (  \\ ( \\.(               )                      _____'\n",
            "             \\  \\ \\  `  `   ) \\             (  ___                 / _   \\'\n",
            "            (_`    \\+   . x  ( .\\            \\/   \\____-----------/ (o)   \\_'\n",
            "           - .-               \\+  ;          (  O                           \\____'\n",
            "                                     )        \\_____________  `              \\  /'\n",
            "           (__                +- .( -'.- <. - _  VVVVVVV VV V\\                 \\/'\n",
            "           (_____            ._._: <_ - <- _  (--  _AAAAAAA__A_/                  |'\n",
            "             .    /./.+-  . .- /  +--  - .     \\______________//_              \\_______'\n",
            "             (__ ' /x  / x _/ (                                  \\___'          \\     /'\n",
            "            , x / ( '  . / .  /                                      |           \\   /'\n",
            "               /  /  _/ /    +                                      /              \\/'\n",
            "             '  (__/                                             /                  \\'\n",
            "        \n",
            "Do you want to play again? (yes or no)yes\n",
            "\n",
            "You are in a land full of dragons.\n",
            "In front of you, you see two caves.\n",
            "In one cave, the dragon is friendly,\n",
            "and will share his treasure with you.\n",
            "The other dragon is greedy and hungry,\n",
            "and will eat you on sight.\n",
            "\n",
            "which cave will you go into? (1 or 2)2\n",
            "\n",
            "you approach the cave...\n",
            "It is dark and spooky...\n",
            "A large dragon jumps out in front of you!\n",
            "He opens his jaws and...\n",
            "Gobbles you down in one bite!\n",
            "\n",
            "              (  )   /\\   _                 (    ' \n",
            "               \\ |  (  \\ ( \\.(               )                      _____'\n",
            "             \\  \\ \\  `  `   ) \\             (  ___                 / _   \\'\n",
            "            (_`    \\+   . x  ( .\\            \\/   \\____-----------/ (o)   \\_'\n",
            "           - .-               \\+  ;          (  O                           \\____'\n",
            "                                     )        \\_____________  `              \\  /'\n",
            "           (__                +- .( -'.- <. - _  VVVVVVV VV V\\                 \\/'\n",
            "           (_____            ._._: <_ - <- _  (--  _AAAAAAA__A_/                  |'\n",
            "             .    /./.+-  . .- /  +--  - .     \\______________//_              \\_______'\n",
            "             (__ ' /x  / x _/ (                                  \\___'          \\     /'\n",
            "            , x / ( '  . / .  /                                      |           \\   /'\n",
            "               /  /  _/ /    +                                      /              \\/'\n",
            "             '  (__/                                             /                  \\'\n",
            "        \n",
            "Do you want to play again? (yes or no)no\n",
            "Thank you!\n"
          ],
          "name": "stdout"
        }
      ]
    }
  ]
}