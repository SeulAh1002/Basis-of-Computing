{
  "nbformat": 4,
  "nbformat_minor": 0,
  "metadata": {
    "kernelspec": {
      "display_name": "Python 3",
      "language": "python",
      "name": "python3"
    },
    "language_info": {
      "codemirror_mode": {
        "name": "ipython",
        "version": 3
      },
      "file_extension": ".py",
      "mimetype": "text/x-python",
      "name": "python",
      "nbconvert_exporter": "python",
      "pygments_lexer": "ipython3",
      "version": "3.8.3"
    },
    "colab": {
      "name": "6주차_함수& tkInter.ipynb",
      "provenance": [],
      "collapsed_sections": [],
      "include_colab_link": true
    }
  },
  "cells": [
    {
      "cell_type": "markdown",
      "metadata": {
        "id": "view-in-github",
        "colab_type": "text"
      },
      "source": [
        "<a href=\"https://colab.research.google.com/github/SeulAh1002/Basis-of-Computing/blob/main/6%EC%A3%BC%EC%B0%A8_%ED%95%A8%EC%88%98%26_tkInter.ipynb\" target=\"_parent\"><img src=\"https://colab.research.google.com/assets/colab-badge.svg\" alt=\"Open In Colab\"/></a>"
      ]
    },
    {
      "cell_type": "code",
      "metadata": {
        "id": "bxKD2FLQs0Dk"
      },
      "source": [
        "from tkinter import*\n",
        "\n",
        "def function_c_f():\n",
        "    c=float(entry_1.get())\n",
        "    f=9.0/5.0*c+32.0\n",
        "    entry_2.delete(0,END)\n",
        "    entry_2.insert(0,str(f))\n",
        "\n",
        "def function_f_c():\n",
        "    f=float(entry_2.get())\n",
        "    c=5.0/9.0*(f-32.0)\n",
        "    entry_1.delete(0,END)\n",
        "    entry_1.insert(0,str(c))\n",
        "\n",
        "window= Tk()\n",
        "window.title('온도 변환 프로그램')\n",
        "window.geometry('350x150')\n",
        "label_1=Label(window, text='온도 변환 프로그램')\n",
        "label_2=Label(window, text ='섭씨')\n",
        "label_3=Label(window, text='화씨')\n",
        "\n",
        "label_1.grid(row=0, column=0, columnspan=2)\n",
        "label_2.grid(row=1, column=0)\n",
        "label_3.grid(row=2, column=0)\n",
        "\n",
        "entry_1=Entry(window)\n",
        "entry_2=Entry(window)\n",
        "\n",
        "entry_1.grid(row=1, column=1)\n",
        "entry_2.grid(row=2, column=1)\n",
        "\n",
        "btn_1=Button(window, text='섭씨->화씨', command=function_c_f)\n",
        "btn_2=Button(window, text='화씨->섭씨', command=function_f_c)\n",
        "\n",
        "btn_1.grid(row=3, column=0)\n",
        "btn_2.grid(row=3, column=1)\n",
        "\n",
        "window.mainloop()"
      ],
      "execution_count": null,
      "outputs": []
    },
    {
      "cell_type": "code",
      "metadata": {
        "id": "M3qd-epss0Dm"
      },
      "source": [
        "# 실습1 대출금계산기\n",
        "\n",
        "from tkinter import *\n",
        "\n",
        "def function_l():\n",
        "    r=float(entry_1.get)\n",
        "    y=float(entry_2.get)\n",
        "    a=float(entry_3.get)\n",
        "    m_amount=a*(r/1200)/ (1-1/(1+r/1200)**(y*12))\n",
        "    t_amount= m_amount*12*y\n",
        "    \n",
        "    label_6['text']=str(m_amount)\n",
        "    label_6['text']=str(t_amount)\n",
        "    \n",
        "\n",
        "\n",
        "window= Tk()\n",
        "window.title('대출계산기')\n",
        "window.geometry('400x400')\n",
        "\n",
        "label_1=Label(window, text='연이율')\n",
        "label_2=Label(window, text='대출년수')\n",
        "label_3=Label(window, text='대출금')\n",
        "label_4=Label(window, text='월상환금')\n",
        "label_5=Label(window, text='총상환금')\n",
        "\n",
        "label_6=Label(window, text='')\n",
        "label_7=Label(window, text='')\n",
        "\n",
        "label_1.grid(row=0, column=0)\n",
        "label_2.grid(row=1, column=0)\n",
        "label_3.grid(row=2, column=0)\n",
        "label_4.grid(row=3, column=0)\n",
        "label_5.grid(row=4, column=0)\n",
        "\n",
        "label_6.grid(row=3, column=1)\n",
        "label_7.grid(row=4, column=1)\n",
        "\n",
        "entry_1= Entry(window)\n",
        "entry_2= Entry(window)\n",
        "entry_3= Entry(window)\n",
        "\n",
        "entry_1.grid(row=0, column=1, columnspan=2)\n",
        "entry_2.grid(row=1, column=1, columnspan=2)\n",
        "entry_3.grid(row=2, column=1, columnspan=2)\n",
        "\n",
        "btn_1=Button(window, text='상환금계산하기', command=function_l)\n",
        "\n",
        "btn_1.grid(row=5, column=2, columnspan=2)\n",
        "\n",
        "window.mainloop()"
      ],
      "execution_count": null,
      "outputs": []
    }
  ]
}