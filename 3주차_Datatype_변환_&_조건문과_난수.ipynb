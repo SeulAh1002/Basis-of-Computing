{
  "nbformat": 4,
  "nbformat_minor": 0,
  "metadata": {
    "colab": {
      "name": "3주차_Datatype 변환 & 조건문과 난수.ipynb",
      "provenance": [],
      "collapsed_sections": [],
      "authorship_tag": "ABX9TyNEE77aszTIfxeiHTPvDMuK",
      "include_colab_link": true
    },
    "kernelspec": {
      "name": "python3",
      "display_name": "Python 3"
    }
  },
  "cells": [
    {
      "cell_type": "markdown",
      "metadata": {
        "id": "view-in-github",
        "colab_type": "text"
      },
      "source": [
        "<a href=\"https://colab.research.google.com/github/SeulAh1002/Basis-of-Computing/blob/main/3%EC%A3%BC%EC%B0%A8_Datatype_%EB%B3%80%ED%99%98_%26_%EC%A1%B0%EA%B1%B4%EB%AC%B8%EA%B3%BC_%EB%82%9C%EC%88%98.ipynb\" target=\"_parent\"><img src=\"https://colab.research.google.com/assets/colab-badge.svg\" alt=\"Open In Colab\"/></a>"
      ]
    },
    {
      "cell_type": "markdown",
      "metadata": {
        "id": "4-lpgq93k2pv"
      },
      "source": [
        "# 3주차"
      ]
    },
    {
      "cell_type": "markdown",
      "metadata": {
        "id": "zBMfFlUGk8AA"
      },
      "source": [
        "## 동영상강의"
      ]
    },
    {
      "cell_type": "code",
      "metadata": {
        "id": "b-Hcu8Agk5K1",
        "colab": {
          "base_uri": "https://localhost:8080/",
          "height": 126
        },
        "outputId": "d1b025b3-3fda-4b86-a428-c3ea952bae41"
      },
      "source": [
        "# This is a guess the number game.\n",
        "print('Hello! What is your name?')\n",
        "myName=input()\n",
        "\n",
        "number=5\n",
        "print('Well,'+myName+', I am thinking of a number between 1 and 20.')\n",
        "print('Take a guess.')\n",
        "guess=input()\n",
        "guess=int(guess)\n",
        "\n",
        "if guess != number:\n",
        "  print ('Your guess is wrong.')\n",
        "if guess == number:\n",
        "  print ('Good job, ' +myName + '! You guessed my number!')"
      ],
      "execution_count": null,
      "outputs": [
        {
          "output_type": "stream",
          "text": [
            "Hello! What is your name?\n",
            "Albert\n",
            "Well,Albert, I am thinking of a number between 1 and 20.\n",
            "Take a guess.\n",
            "5\n",
            "Good job, Albert! You guessed my number!\n"
          ],
          "name": "stdout"
        }
      ]
    },
    {
      "cell_type": "code",
      "metadata": {
        "id": "IHw_qCUYu7aR",
        "colab": {
          "base_uri": "https://localhost:8080/",
          "height": 53
        },
        "outputId": "b810e31e-46b1-4fcc-c1f5-5a4a77c39a5c"
      },
      "source": [
        "currentAge= input('몇 살이세요?')\n",
        "currentAge= int(currentAge)\n",
        "futureAge=currentAge+10\n",
        "print('당신의 10년 후에 나이는 ' + str(futureAge)+'살이시군요.')"
      ],
      "execution_count": null,
      "outputs": [
        {
          "output_type": "stream",
          "text": [
            "몇 살이세요?21\n",
            "당신의 10년 후에 나이는 31살이시군요.\n"
          ],
          "name": "stdout"
        }
      ]
    },
    {
      "cell_type": "markdown",
      "metadata": {
        "id": "Kj0swDSDk7re"
      },
      "source": [
        "##실습강의"
      ]
    },
    {
      "cell_type": "code",
      "metadata": {
        "id": "Xmc-u0FulAu9",
        "colab": {
          "base_uri": "https://localhost:8080/",
          "height": 162
        },
        "outputId": "7799c013-0a50-4ba8-f784-2a8d4d767be6"
      },
      "source": [
        "#실습1\n",
        "print('학과:xxxxx, 학번:xxxxx, 이름:xxx')\n",
        "\n",
        "# 화씨 > 섭씨\n",
        "print()\n",
        "print('온도 변환 프로그램')\n",
        "f=input('화씨 온도를 입력하세요:')\n",
        "f=int(f)\n",
        "c=5.0/9.0*(f-32.0)\n",
        "print('섭씨 온도는',c,'입니다.')\n",
        "\n",
        "#  섭씨 > 화씨\n",
        "print()\n",
        "c=input('섭씨 온도를 입력하세요:')\n",
        "c=int(c)\n",
        "f=9.0/5.0*c +32.0\n",
        "print('섭씨 온도는',f,'입니다.')"
      ],
      "execution_count": null,
      "outputs": [
        {
          "output_type": "stream",
          "text": [
            "학과:xxxxx, 학번:xxxxx, 이름:xxx\n",
            "\n",
            "온도 변환 프로그램\n",
            "화씨 온도를 입력하세요:50\n",
            "섭씨 온도는 10.0 입니다.\n",
            "\n",
            "섭씨 온도를 입력하세요:50\n",
            "섭씨 온도는 122.0 입니다.\n"
          ],
          "name": "stdout"
        }
      ]
    },
    {
      "cell_type": "code",
      "metadata": {
        "id": "g2GDuAbBVkL3",
        "colab": {
          "base_uri": "https://localhost:8080/",
          "height": 144
        },
        "outputId": "4fa0ea2f-ab05-4314-b402-a1168fa4007b"
      },
      "source": [
        "#실습2\n",
        "print('환율계산 프로그램')\n",
        "print()\n",
        "money=int(input('금액을 입력하세요: '))\n",
        "\n",
        "print('대한민국', str(money)+'원은', str(0.00084*money)+'달러입니다.')\n",
        "print('중국', str(money)+'위안은', str(0.15*money)+'달러입니다.')\n",
        "print('일본', str(money)+'엔은', str(0.0094*money)+'달러입니다.')\n",
        "print('필리핀', str(money)+'페소는', str(0.021*money)+'달러입니다.')\n",
        "\n"
      ],
      "execution_count": null,
      "outputs": [
        {
          "output_type": "stream",
          "text": [
            "환율계산 프로그램\n",
            "\n",
            "금액을 입력하세요: 5000\n",
            "대한민국 5000원은 4.2달러입니다.\n",
            "중국 5000위안은 750.0달러입니다.\n",
            "일본 5000엔은 47.0달러입니다.\n",
            "필리핀 5000페소는 105.0달러입니다.\n"
          ],
          "name": "stdout"
        }
      ]
    },
    {
      "cell_type": "code",
      "metadata": {
        "id": "LjFBqVChXOzU",
        "colab": {
          "base_uri": "https://localhost:8080/",
          "height": 108
        },
        "outputId": "ab7959c7-c90e-4b42-c4bf-0a7d78c35078"
      },
      "source": [
        "#실습3\n",
        "print('부가세 계산 프로그램')\n",
        "print()\n",
        "total=int(input('합계금액을 입력하세요: '))\n",
        "tax=round(total*(10/110))\n",
        "print('공급가액',str(total-tax)+'원')\n",
        "print('세액',str(tax)+'원입니다.')"
      ],
      "execution_count": null,
      "outputs": [
        {
          "output_type": "stream",
          "text": [
            "부가세 계산 프로그램\n",
            "\n",
            "합계금액을 입력하세요: 100000\n",
            "공급가액 90909원\n",
            "세액 9091원입니다.\n"
          ],
          "name": "stdout"
        }
      ]
    },
    {
      "cell_type": "markdown",
      "metadata": {
        "id": "vsbJXFAkstCO"
      },
      "source": [
        "## 동영상 강의\n"
      ]
    },
    {
      "cell_type": "code",
      "metadata": {
        "id": "I6CW7JTPsv6L"
      },
      "source": [
        "# 조건문 Quiz"
      ],
      "execution_count": null,
      "outputs": []
    },
    {
      "cell_type": "code",
      "metadata": {
        "id": "QGV9TbWCug9t"
      },
      "source": [
        "# 비교연산자 Quiz"
      ],
      "execution_count": null,
      "outputs": []
    },
    {
      "cell_type": "code",
      "metadata": {
        "id": "Lgvyy2_46F0e",
        "colab": {
          "base_uri": "https://localhost:8080/",
          "height": 126
        },
        "outputId": "3918cb4c-d273-47c3-f643-2a6ca615fd89"
      },
      "source": [
        "# This is a guess the number game.\n",
        "print('Hello! What is your name?')\n",
        "myName=input()\n",
        "\n",
        "number=5\n",
        "print('Well,'+myName+', I am thinking of a number between 1 and 20.')\n",
        "print('Take a guess.')\n",
        "guess=input()\n",
        "guess=int(guess)\n",
        "\n",
        "if guess < number:\n",
        "  print ('Your guess is too low.')\n",
        "if guess > number:\n",
        "  print ('Your guess is too high.')\n",
        "if guess == number:\n",
        "  print('Good job,' +myName + '! You guessed my number!')"
      ],
      "execution_count": null,
      "outputs": [
        {
          "output_type": "stream",
          "text": [
            "Hello! What is your name?\n",
            "Alice\n",
            "Well,Alice, I am thinking of a number between 1 and 20.\n",
            "Take a guess.\n",
            "13\n",
            "Your guess is too high.\n"
          ],
          "name": "stdout"
        }
      ]
    },
    {
      "cell_type": "code",
      "metadata": {
        "id": "mZsLLwZ46qeE",
        "colab": {
          "base_uri": "https://localhost:8080/",
          "height": 126
        },
        "outputId": "a019e611-72ff-41af-eda8-62fb07b72114"
      },
      "source": [
        "# This is a guess the bumber game.\n",
        "import random\n",
        "print('Hello! What is your name?')\n",
        "myName=input()\n",
        "\n",
        "number= random.randint(1,20)\n",
        "print('Well,'+myName+', I am thinking of a number between 1 and 20.')\n",
        "print('Take a guess.')\n",
        "\n",
        "guess=input()\n",
        "guess=int(guess)\n",
        "\n",
        "if guess < number:\n",
        "  print ('Your guess is too low.')\n",
        "if guess > number:\n",
        "  print ('Your guess is too high.')\n",
        "if guess == number:\n",
        "  print('Good job,' +myName + '! You guessed my number!')"
      ],
      "execution_count": null,
      "outputs": [
        {
          "output_type": "stream",
          "text": [
            "Hello! What is your name?\n",
            "Alice\n",
            "Well,Alice, I am thinking of a number between 1 and 20.\n",
            "Take a guess.\n",
            "5\n",
            "Good job,Alice! You guessed my number!\n"
          ],
          "name": "stdout"
        }
      ]
    },
    {
      "cell_type": "markdown",
      "metadata": {
        "id": "8O2PParu9tcu"
      },
      "source": [
        "## 실습강의\n",
        "\n"
      ]
    },
    {
      "cell_type": "code",
      "metadata": {
        "id": "hhbP6QpV9vN6",
        "colab": {
          "base_uri": "https://localhost:8080/",
          "height": 90
        },
        "outputId": "e71a2a2f-7a6d-4560-d973-bcdaa1f71f37"
      },
      "source": [
        "# 실습1\n",
        "first=int(input('첫 번째 정수를 입력하시오: '))\n",
        "second=int(input('두 번째 정수를 입력하시오: '))\n",
        "print()\n",
        "if first>second:\n",
        "  print('큰수:', first)\n",
        "  print('작은수:', second)\n",
        "elif first<second:\n",
        "  print('큰수:', second)\n",
        "  print('작은수:', first)\n",
        "else:\n",
        "  print('두 수는 같습니다.')"
      ],
      "execution_count": null,
      "outputs": [
        {
          "output_type": "stream",
          "text": [
            "첫 번째 정수를 입력하시오: 45\n",
            "두 번째 정수를 입력하시오: 45\n",
            "\n",
            "두 수는 같습니다.\n"
          ],
          "name": "stdout"
        }
      ]
    },
    {
      "cell_type": "code",
      "metadata": {
        "id": "V2PJFXLL9adG",
        "colab": {
          "base_uri": "https://localhost:8080/",
          "height": 72
        },
        "outputId": "921c35ce-bbdb-4b2c-ddfd-324e39be0d7d"
      },
      "source": [
        "# 실습2\n",
        "print('성적을 입력하시오.')\n",
        "score=int(input())\n",
        "\n",
        "if score>=90:\n",
        "  print('합격입니다.')\n",
        "else:\n",
        "  print('불합격입니다.')\n"
      ],
      "execution_count": null,
      "outputs": [
        {
          "output_type": "stream",
          "text": [
            "성적을 입력하시오.\n",
            "76\n",
            "불합격입니다.\n"
          ],
          "name": "stdout"
        }
      ]
    },
    {
      "cell_type": "code",
      "metadata": {
        "id": "d1R-g4uyBA2S",
        "colab": {
          "base_uri": "https://localhost:8080/",
          "height": 72
        },
        "outputId": "6cbdba49-24ce-499a-9321-c8987f32bf47"
      },
      "source": [
        "# 실습3\n",
        "print('숫자를 입력하시오.')\n",
        "num=int(input())\n",
        "\n",
        "if num%2==1:\n",
        "  print('홀수입니다.')\n",
        "else:\n",
        " print('짝수입니다.')"
      ],
      "execution_count": null,
      "outputs": [
        {
          "output_type": "stream",
          "text": [
            "숫자를 입력하시오.\n",
            "97\n",
            "홀수입니다.\n"
          ],
          "name": "stdout"
        }
      ]
    },
    {
      "cell_type": "code",
      "metadata": {
        "id": "1ZJS_I6oCH-3",
        "colab": {
          "base_uri": "https://localhost:8080/",
          "height": 108
        },
        "outputId": "97d2af64-0ec8-47d0-db87-5c639da6161d"
      },
      "source": [
        "# 실습 4\n",
        "print('몸무게(kg)와 키(m)를 차례대로 입력하세요.')\n",
        "weight=float(input())\n",
        "height=float(input())\n",
        "\n",
        "BMI=weight/height**2\n",
        "print('BMI',\"%.2f\"%BMI)\n",
        "\n",
        "if BMI>25:\n",
        "  print('비만입니다. 운동으로 감량이 필요합니다.')\n",
        "else:\n",
        "  print('정상입니다. 꾸준한 운동으로 유지시켜주세요.')"
      ],
      "execution_count": null,
      "outputs": [
        {
          "output_type": "stream",
          "text": [
            "몸무게(kg)와 키(m)를 차례대로 입력하세요.\n",
            "70\n",
            "1.6\n",
            "BMI 27.34\n",
            "비만입니다. 운동으로 감량이 필요합니다.\n"
          ],
          "name": "stdout"
        }
      ]
    },
    {
      "cell_type": "code",
      "metadata": {
        "id": "uV1SePDHEMHK",
        "colab": {
          "base_uri": "https://localhost:8080/",
          "height": 108
        },
        "outputId": "20045d45-bdd9-4eec-fa42-8fffca624132"
      },
      "source": [
        "# 실습5\n",
        "import random\n",
        "print('범위의 시작 값을 입력하세요.')\n",
        "start=int(input())\n",
        "print('범위의 끝 값을 입력하세요.')\n",
        "fin=int(input())\n",
        "\n",
        "if start>fin:\n",
        "  print('끝 값을 잘못 입력하셨습니다.')\n",
        "else:\n",
        "  ranNum=random.randint(start,fin)\n",
        "  print('범위', str(start)+'부터', str(fin)+'가운데 선택된 랜덤 넘버는', str(ranNum)+'입니다.')"
      ],
      "execution_count": null,
      "outputs": [
        {
          "output_type": "stream",
          "text": [
            "범위의 시작 값을 입력하세요.\n",
            "100\n",
            "범위의 끝 값을 입력하세요.\n",
            "200\n",
            "범위 100부터 200가운데 선택된 랜덤 넘버는 173입니다.\n"
          ],
          "name": "stdout"
        }
      ]
    }
  ]
}